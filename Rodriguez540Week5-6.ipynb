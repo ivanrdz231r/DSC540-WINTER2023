{
 "cells": [
  {
   "cell_type": "markdown",
   "id": "bfa049ad",
   "metadata": {},
   "source": [
    "# Weeks 5 & 6 Exercises"
   ]
  },
  {
   "cell_type": "markdown",
   "id": "7596b3a9",
   "metadata": {},
   "source": [
    "## 1) Data Wrangling with Python: Activity 7, page 207"
   ]
  },
  {
   "cell_type": "markdown",
   "id": "415a6f2e",
   "metadata": {},
   "source": [
    "***Instructions)***\n",
    "\n",
    "Activity 7: Reading Tabular Data from a Web Page and Creating DataFrames\n",
    "\n",
    "In this activity, you have been given a Wikipedia page where you have the GDP of all countries listed. You have been asked to create three DataFrames from the three sources mentioned in the page (https://en.wikipedia.org/wiki/List_of_countries_by_GDP_(nominal)):\n",
    "\n",
    "You will have to do the following:\n",
    "\n",
    "1) Open the page in a separate Chrome/Firefox tab and use something like an Inspect Element tool to view the source HTML and understand its structure\n",
    "2) Read the page using bs4\n",
    "3) Find the table structure you will need to deal with (how many tables there are?)\n",
    "4) Find the right table using bs4\n",
    "5) Separate the source names and their corresponding data\n",
    "6) Get the source names from the list of sources you have created\n",
    "7) Separate the header and data from the data that you separated before for the first source only, and then create a DataFrame using that\n",
    "8) Repeat the last task for the other two data sources\n"
   ]
  },
  {
   "cell_type": "markdown",
   "id": "b3e177bf",
   "metadata": {},
   "source": [
    "***Answer)***"
   ]
  },
  {
   "cell_type": "markdown",
   "id": "484497c2",
   "metadata": {},
   "source": [
    "**#1.** Is more about viewing the source HTML and does not involve any coding.\n",
    "\n",
    "When inspecting the source HTML to locate the table I found following class identifier:\n",
    "\n",
    "- class = &quote;wikitable&quote;|}\n",
    "- classList: DOMTokenList ['\"wikitable\"|}', value: '\"wikitable\"|}']\n",
    "- className: \"\\\"wikitable\\\"|}\"\n",
    "\n",
    "Effectively the class value for the table is '\"wikitable\"|}'\n",
    "\n",
    "There are three tables in a list in this class value"
   ]
  },
  {
   "cell_type": "markdown",
   "id": "d3233e95",
   "metadata": {},
   "source": [
    "**#2.** Involves importing the proper libraries, opening and reading the htm file and and viewing the tables."
   ]
  },
  {
   "cell_type": "code",
   "execution_count": 1,
   "id": "694e117e",
   "metadata": {},
   "outputs": [],
   "source": [
    "# Read the page using bs4\n",
    "from bs4 import BeautifulSoup\n",
    "import pandas as pd"
   ]
  },
  {
   "cell_type": "code",
   "execution_count": 2,
   "id": "d998c1fc",
   "metadata": {},
   "outputs": [
    {
     "data": {
      "text/html": [
       "<div>\n",
       "<style scoped>\n",
       "    .dataframe tbody tr th:only-of-type {\n",
       "        vertical-align: middle;\n",
       "    }\n",
       "\n",
       "    .dataframe tbody tr th {\n",
       "        vertical-align: top;\n",
       "    }\n",
       "\n",
       "    .dataframe thead th {\n",
       "        text-align: right;\n",
       "    }\n",
       "</style>\n",
       "<table border=\"1\" class=\"dataframe\">\n",
       "  <thead>\n",
       "    <tr style=\"text-align: right;\">\n",
       "      <th></th>\n",
       "      <th>0</th>\n",
       "    </tr>\n",
       "  </thead>\n",
       "  <tbody>\n",
       "    <tr>\n",
       "      <th>0</th>\n",
       "      <td>Largest economies by nominal GDP in 2017[1]</td>\n",
       "    </tr>\n",
       "  </tbody>\n",
       "</table>\n",
       "</div>"
      ],
      "text/plain": [
       "                                             0\n",
       "0  Largest economies by nominal GDP in 2017[1]"
      ]
     },
     "execution_count": 2,
     "metadata": {},
     "output_type": "execute_result"
    }
   ],
   "source": [
    "# Open and read the file with BeautifulSoup\n",
    "with open(\"List of countries by GDP (nominal) - Wikipedia.htm\", \"r\", encoding=\"utf-8\") as htmFile:\n",
    "    soup = BeautifulSoup(htmFile, \"html.parser\")\n",
    "    \n",
    "tables = soup.find_all('table')\n",
    "\n",
    "# This code reads the table into a pandas df, and sets which tables[] to select when reading. \n",
    "df = pd.read_html(str(tables[0]))[0] # Selecting the first table\n",
    "\n",
    "df.head(10)"
   ]
  },
  {
   "cell_type": "markdown",
   "id": "f123620f",
   "metadata": {},
   "source": [
    "**#3.** Finding the correct table structure involves reading all tables and then specifing which one we need."
   ]
  },
  {
   "cell_type": "code",
   "execution_count": 3,
   "id": "6e63e55f",
   "metadata": {},
   "outputs": [
    {
     "name": "stdout",
     "output_type": "stream",
     "text": [
      "Total number of tables are 9 \n"
     ]
    }
   ],
   "source": [
    "print(\"Total number of tables are {} \".format(len(tables)))"
   ]
  },
  {
   "cell_type": "code",
   "execution_count": 4,
   "id": "19475a7a",
   "metadata": {},
   "outputs": [
    {
     "name": "stdout",
     "output_type": "stream",
     "text": [
      "Table 0:\n",
      "                                             0\n",
      "0  Largest economies by nominal GDP in 2017[1]\n",
      "\n",
      "\n",
      "Table 1:\n",
      "                                                Rank  \\\n",
      "                                                Rank   \n",
      "                                                Rank   \n",
      "0      Per the International Monetary Fund (2017)[1]   \n",
      "1  Rank Country GDP (US$MM)  World[19] 79,865,481...   \n",
      "2                                               Rank   \n",
      "3                                                NaN   \n",
      "4                                                  1   \n",
      "\n",
      "                                             Country  \\\n",
      "                                             Country   \n",
      "                                             Country   \n",
      "0                      Per the World Bank (2017)[20]   \n",
      "1  Rank Country GDP (US$MM)  World 1  United Stat...   \n",
      "2                                            Country   \n",
      "3                                          World[19]   \n",
      "4                                      United States   \n",
      "\n",
      "                                         GDP (US$MM)  \n",
      "                                         GDP (US$MM)  \n",
      "                                         GDP (US$MM)  \n",
      "0              Per the United Nations (2016)[21][22]  \n",
      "1  Rank Country GDP (US$MM)  World[24] 1  United ...  \n",
      "2                                        GDP (US$MM)  \n",
      "3                                           79865481  \n",
      "4                                           19390600  \n",
      "\n",
      "\n",
      "Table 2:\n",
      "  Rank        Country GDP (US$MM)\n",
      "0  NaN      World[19]    79865481\n",
      "1    1  United States    19390600\n",
      "2    2     China[n 1]    12014610\n",
      "3    3          Japan     4872135\n",
      "4    4        Germany     3684816\n",
      "\n",
      "\n",
      "Table 3:\n",
      "   Rank             Country  GDP (US$MM)\n",
      "0   NaN               World          NaN\n",
      "1   1.0       United States          NaN\n",
      "2   NaN  European Union[23]          NaN\n",
      "3   2.0          China[n 4]          NaN\n",
      "4   3.0               Japan          NaN\n",
      "\n",
      "\n",
      "Table 4:\n",
      "   Rank        Country  GDP (US$MM)\n",
      "0   NaN      World[24]          NaN\n",
      "1   1.0  United States          NaN\n",
      "2   2.0     China[n 4]          NaN\n",
      "3   3.0          Japan          NaN\n",
      "4   4.0        Germany          NaN\n",
      "\n",
      "\n",
      "Table 5:\n",
      "  hidevteLists of countries by GDP rankings  \\\n",
      "0             Purchasing power parity (PPP)   \n",
      "1                                   Nominal   \n",
      "2                               Growth rate   \n",
      "3               Gross national income (GNI)   \n",
      "4                       Countries by region   \n",
      "\n",
      "         hidevteLists of countries by GDP rankings.1  \n",
      "0  Per capita Past per capita Past and projected ...  \n",
      "1  Per capita Past and projected per capita Secto...  \n",
      "2  African countries Asian states European Union ...  \n",
      "3                  PPP per capita Nominal per capita  \n",
      "4  Africa PPP nominal Commonwealth of Nations PPP...  \n",
      "\n",
      "\n",
      "Table 6:\n",
      "Empty DataFrame\n",
      "Columns: [showvteLists of countries by financial rankings, showvteLists of countries by financial rankings.1]\n",
      "Index: []\n",
      "\n",
      "\n",
      "Table 7:\n",
      "Empty DataFrame\n",
      "Columns: [showvteEconomic classification of countries, showvteEconomic classification of countries.1]\n",
      "Index: []\n",
      "\n",
      "\n",
      "Table 8:\n",
      "                               0  \\\n",
      "0                        Nominal   \n",
      "1  Purchasing power parity (PPP)   \n",
      "\n",
      "                                                   1  \n",
      "0  By country past and projected per capita per c...  \n",
      "1  By country future estimates per capita per cap...  \n",
      "\n",
      "\n"
     ]
    }
   ],
   "source": [
    "# This code also uses pd.read_html but unlike the previous code that specifies which table to read, this code does not -\n",
    "# specify which table to read and instead reads all tables in the file.\n",
    "all_tables = pd.read_html(\"List of countries by GDP (nominal) - Wikipedia.htm\")\n",
    "\n",
    "# Display the first rows of each table to try to identify the correct one\n",
    "for i, table in enumerate(all_tables):\n",
    "    print(f\"Table {i}:\")\n",
    "    print(table.head())\n",
    "    print(\"\\n\")"
   ]
  },
  {
   "cell_type": "markdown",
   "id": "6f99ecae",
   "metadata": {},
   "source": [
    "**#4.** Find the right table using bs4"
   ]
  },
  {
   "cell_type": "code",
   "execution_count": 5,
   "id": "f0fda83f",
   "metadata": {},
   "outputs": [
    {
     "name": "stdout",
     "output_type": "stream",
     "text": [
      "<class 'bs4.element.Tag'>\n"
     ]
    }
   ],
   "source": [
    "# Using the unique class value identified in step 1 to identify the right table using bs4\n",
    "data_table = soup.find(\"table\", {\"class\": '\"wikitable\"|}'})\n",
    "print(type(data_table))"
   ]
  },
  {
   "cell_type": "markdown",
   "id": "8ec50e48",
   "metadata": {},
   "source": [
    "**#5** Separate the source names and their corresponding data"
   ]
  },
  {
   "cell_type": "code",
   "execution_count": 6,
   "id": "6ff3a0c6",
   "metadata": {},
   "outputs": [
    {
     "name": "stdout",
     "output_type": "stream",
     "text": [
      "3\n"
     ]
    }
   ],
   "source": [
    "# This code identifies how many sources are in the variable we used to identify the correct html table class\n",
    "sources = data_table.tbody.findAll('tr', recursive=False)[0]\n",
    "sources_list = [td for td in sources.findAll('td')]\n",
    "print(len(sources_list))"
   ]
  },
  {
   "cell_type": "code",
   "execution_count": 7,
   "id": "590db8be",
   "metadata": {},
   "outputs": [],
   "source": [
    "# This is used to acccess the tbody part of a table and finds all table rows 'tr' starting at 2nd row by the index[]\n",
    "data = data_table.tbody.findAll('tr', recursive=False)[1].findAll('td', recursive=False)"
   ]
  },
  {
   "cell_type": "code",
   "execution_count": 8,
   "id": "0cdb7756",
   "metadata": {},
   "outputs": [],
   "source": [
    "# Here the code initializes, loops, and appends any table elements found into the empty data_tables list\n",
    "data_tables = []\n",
    "for td in data:\n",
    "    data_tables.append(td.findAll('table'))"
   ]
  },
  {
   "cell_type": "code",
   "execution_count": 9,
   "id": "f6c2faf9",
   "metadata": {},
   "outputs": [
    {
     "data": {
      "text/plain": [
       "3"
      ]
     },
     "execution_count": 9,
     "metadata": {},
     "output_type": "execute_result"
    }
   ],
   "source": [
    "len(data_tables)"
   ]
  },
  {
   "cell_type": "markdown",
   "id": "3fce6f70",
   "metadata": {},
   "source": [
    "**#6.** Get the source names from the list of sources you have created"
   ]
  },
  {
   "cell_type": "code",
   "execution_count": 10,
   "id": "493455ec",
   "metadata": {},
   "outputs": [
    {
     "name": "stdout",
     "output_type": "stream",
     "text": [
      "['International Monetary Fund', 'World Bank', 'United Nations']\n"
     ]
    }
   ],
   "source": [
    "source_names = [source.findAll('a')[0].getText() for source in sources_list]\n",
    "print(source_names)"
   ]
  },
  {
   "cell_type": "markdown",
   "id": "761c8e82",
   "metadata": {},
   "source": [
    "**#7.** Separate the header and data from the data that you separated before for the first source only, and then create a DataFrame using that"
   ]
  },
  {
   "cell_type": "code",
   "execution_count": 11,
   "id": "6d88efe0",
   "metadata": {},
   "outputs": [
    {
     "data": {
      "text/plain": [
       "['Rank', 'Country', 'GDP(US$MM)']"
      ]
     },
     "execution_count": 11,
     "metadata": {},
     "output_type": "execute_result"
    }
   ],
   "source": [
    "header1 = [th.getText().strip() for th in data_tables[0][0].findAll('thead')[0].findAll('th')]\n",
    "header1"
   ]
  },
  {
   "cell_type": "code",
   "execution_count": 12,
   "id": "c3aed81c",
   "metadata": {},
   "outputs": [],
   "source": [
    "rows1 = data_tables[0][0].findAll('tbody')[0].findAll('tr')[1:]"
   ]
  },
  {
   "cell_type": "code",
   "execution_count": 13,
   "id": "1cb5beb8",
   "metadata": {},
   "outputs": [],
   "source": [
    "data_rows1 = [[td.get_text().strip() for td in tr.findAll('td')] for tr in rows1]"
   ]
  },
  {
   "cell_type": "code",
   "execution_count": 14,
   "id": "2e9ca2ef",
   "metadata": {},
   "outputs": [],
   "source": [
    "df1 = pd.DataFrame(data_rows1, columns=header1)"
   ]
  },
  {
   "cell_type": "code",
   "execution_count": 15,
   "id": "3b72b8d6",
   "metadata": {},
   "outputs": [
    {
     "data": {
      "text/html": [
       "<div>\n",
       "<style scoped>\n",
       "    .dataframe tbody tr th:only-of-type {\n",
       "        vertical-align: middle;\n",
       "    }\n",
       "\n",
       "    .dataframe tbody tr th {\n",
       "        vertical-align: top;\n",
       "    }\n",
       "\n",
       "    .dataframe thead th {\n",
       "        text-align: right;\n",
       "    }\n",
       "</style>\n",
       "<table border=\"1\" class=\"dataframe\">\n",
       "  <thead>\n",
       "    <tr style=\"text-align: right;\">\n",
       "      <th></th>\n",
       "      <th>Rank</th>\n",
       "      <th>Country</th>\n",
       "      <th>GDP(US$MM)</th>\n",
       "    </tr>\n",
       "  </thead>\n",
       "  <tbody>\n",
       "    <tr>\n",
       "      <th>0</th>\n",
       "      <td>1</td>\n",
       "      <td>United States</td>\n",
       "      <td>19,390,600</td>\n",
       "    </tr>\n",
       "    <tr>\n",
       "      <th>1</th>\n",
       "      <td>2</td>\n",
       "      <td>China[n 1]</td>\n",
       "      <td>12,014,610</td>\n",
       "    </tr>\n",
       "    <tr>\n",
       "      <th>2</th>\n",
       "      <td>3</td>\n",
       "      <td>Japan</td>\n",
       "      <td>4,872,135</td>\n",
       "    </tr>\n",
       "    <tr>\n",
       "      <th>3</th>\n",
       "      <td>4</td>\n",
       "      <td>Germany</td>\n",
       "      <td>3,684,816</td>\n",
       "    </tr>\n",
       "    <tr>\n",
       "      <th>4</th>\n",
       "      <td>5</td>\n",
       "      <td>United Kingdom</td>\n",
       "      <td>2,624,529</td>\n",
       "    </tr>\n",
       "  </tbody>\n",
       "</table>\n",
       "</div>"
      ],
      "text/plain": [
       "  Rank         Country  GDP(US$MM)\n",
       "0    1   United States  19,390,600\n",
       "1    2      China[n 1]  12,014,610\n",
       "2    3           Japan   4,872,135\n",
       "3    4         Germany   3,684,816\n",
       "4    5  United Kingdom   2,624,529"
      ]
     },
     "execution_count": 15,
     "metadata": {},
     "output_type": "execute_result"
    }
   ],
   "source": [
    "df1.head()"
   ]
  },
  {
   "cell_type": "markdown",
   "id": "d3515901",
   "metadata": {},
   "source": [
    "**#8.** Repeat the last task for the other two data sources"
   ]
  },
  {
   "cell_type": "code",
   "execution_count": 16,
   "id": "867fd7d8",
   "metadata": {},
   "outputs": [
    {
     "data": {
      "text/plain": [
       "['Rank', 'Country', 'GDP(US$MM)']"
      ]
     },
     "execution_count": 16,
     "metadata": {},
     "output_type": "execute_result"
    }
   ],
   "source": [
    "header2 = [th.getText().strip() for th in data_tables[1][0].findAll('thead')[0].findAll('th')]\n",
    "header2"
   ]
  },
  {
   "cell_type": "code",
   "execution_count": 17,
   "id": "581c6a00",
   "metadata": {},
   "outputs": [],
   "source": [
    "rows2 = data_tables[1][0].findAll('tbody')[0].findAll('tr')[1:]"
   ]
  },
  {
   "cell_type": "code",
   "execution_count": 18,
   "id": "d7cca082",
   "metadata": {},
   "outputs": [],
   "source": [
    "def find_right_text(i, td):\n",
    "    if i == 0:\n",
    "        return td.getText().strip()\n",
    "    elif i == 1:\n",
    "        return td.getText().strip()\n",
    "    else:\n",
    "        index = td.text.find(\"♠\")\n",
    "        return td.text[index+1:].strip()"
   ]
  },
  {
   "cell_type": "code",
   "execution_count": 19,
   "id": "0fe1fcea",
   "metadata": {},
   "outputs": [],
   "source": [
    "data_rows2 = [[find_right_text(i, td) for i, td in enumerate(tr.findAll('td'))] for tr in rows2]"
   ]
  },
  {
   "cell_type": "code",
   "execution_count": 20,
   "id": "c3606a36",
   "metadata": {},
   "outputs": [],
   "source": [
    "df2 = pd.DataFrame(data_rows2, columns=header2)"
   ]
  },
  {
   "cell_type": "code",
   "execution_count": 21,
   "id": "d783f472",
   "metadata": {},
   "outputs": [
    {
     "data": {
      "text/html": [
       "<div>\n",
       "<style scoped>\n",
       "    .dataframe tbody tr th:only-of-type {\n",
       "        vertical-align: middle;\n",
       "    }\n",
       "\n",
       "    .dataframe tbody tr th {\n",
       "        vertical-align: top;\n",
       "    }\n",
       "\n",
       "    .dataframe thead th {\n",
       "        text-align: right;\n",
       "    }\n",
       "</style>\n",
       "<table border=\"1\" class=\"dataframe\">\n",
       "  <thead>\n",
       "    <tr style=\"text-align: right;\">\n",
       "      <th></th>\n",
       "      <th>Rank</th>\n",
       "      <th>Country</th>\n",
       "      <th>GDP(US$MM)</th>\n",
       "    </tr>\n",
       "  </thead>\n",
       "  <tbody>\n",
       "    <tr>\n",
       "      <th>0</th>\n",
       "      <td>1</td>\n",
       "      <td>United States</td>\n",
       "      <td>19,390,604</td>\n",
       "    </tr>\n",
       "    <tr>\n",
       "      <th>1</th>\n",
       "      <td></td>\n",
       "      <td>European Union[23]</td>\n",
       "      <td>17,277,698</td>\n",
       "    </tr>\n",
       "    <tr>\n",
       "      <th>2</th>\n",
       "      <td>2</td>\n",
       "      <td>China[n 4]</td>\n",
       "      <td>12,237,700</td>\n",
       "    </tr>\n",
       "    <tr>\n",
       "      <th>3</th>\n",
       "      <td>3</td>\n",
       "      <td>Japan</td>\n",
       "      <td>4,872,137</td>\n",
       "    </tr>\n",
       "    <tr>\n",
       "      <th>4</th>\n",
       "      <td>4</td>\n",
       "      <td>Germany</td>\n",
       "      <td>3,677,439</td>\n",
       "    </tr>\n",
       "  </tbody>\n",
       "</table>\n",
       "</div>"
      ],
      "text/plain": [
       "  Rank             Country  GDP(US$MM)\n",
       "0    1       United States  19,390,604\n",
       "1       European Union[23]  17,277,698\n",
       "2    2          China[n 4]  12,237,700\n",
       "3    3               Japan   4,872,137\n",
       "4    4             Germany   3,677,439"
      ]
     },
     "execution_count": 21,
     "metadata": {},
     "output_type": "execute_result"
    }
   ],
   "source": [
    "df2.head()"
   ]
  },
  {
   "cell_type": "code",
   "execution_count": 22,
   "id": "74dee7bd",
   "metadata": {},
   "outputs": [
    {
     "data": {
      "text/plain": [
       "['Rank', 'Country', 'GDP(US$MM)']"
      ]
     },
     "execution_count": 22,
     "metadata": {},
     "output_type": "execute_result"
    }
   ],
   "source": [
    "header3 = [th.getText().strip() for th in data_tables[2][0].findAll('thead')[0].findAll('th')]\n",
    "header3"
   ]
  },
  {
   "cell_type": "code",
   "execution_count": 23,
   "id": "65acf5cc",
   "metadata": {},
   "outputs": [],
   "source": [
    "rows3 = data_tables[2][0].findAll('tbody')[0].findAll('tr')[1:]"
   ]
  },
  {
   "cell_type": "code",
   "execution_count": 24,
   "id": "f1f08105",
   "metadata": {},
   "outputs": [],
   "source": [
    "data_rows3 = [[find_right_text(i, td) for i, td in enumerate(tr.findAll('td'))] for tr in rows2]"
   ]
  },
  {
   "cell_type": "code",
   "execution_count": 25,
   "id": "94ec9b53",
   "metadata": {},
   "outputs": [
    {
     "data": {
      "text/html": [
       "<div>\n",
       "<style scoped>\n",
       "    .dataframe tbody tr th:only-of-type {\n",
       "        vertical-align: middle;\n",
       "    }\n",
       "\n",
       "    .dataframe tbody tr th {\n",
       "        vertical-align: top;\n",
       "    }\n",
       "\n",
       "    .dataframe thead th {\n",
       "        text-align: right;\n",
       "    }\n",
       "</style>\n",
       "<table border=\"1\" class=\"dataframe\">\n",
       "  <thead>\n",
       "    <tr style=\"text-align: right;\">\n",
       "      <th></th>\n",
       "      <th>Rank</th>\n",
       "      <th>Country</th>\n",
       "      <th>GDP(US$MM)</th>\n",
       "    </tr>\n",
       "  </thead>\n",
       "  <tbody>\n",
       "    <tr>\n",
       "      <th>0</th>\n",
       "      <td>1</td>\n",
       "      <td>United States</td>\n",
       "      <td>19,390,604</td>\n",
       "    </tr>\n",
       "    <tr>\n",
       "      <th>1</th>\n",
       "      <td></td>\n",
       "      <td>European Union[23]</td>\n",
       "      <td>17,277,698</td>\n",
       "    </tr>\n",
       "    <tr>\n",
       "      <th>2</th>\n",
       "      <td>2</td>\n",
       "      <td>China[n 4]</td>\n",
       "      <td>12,237,700</td>\n",
       "    </tr>\n",
       "    <tr>\n",
       "      <th>3</th>\n",
       "      <td>3</td>\n",
       "      <td>Japan</td>\n",
       "      <td>4,872,137</td>\n",
       "    </tr>\n",
       "    <tr>\n",
       "      <th>4</th>\n",
       "      <td>4</td>\n",
       "      <td>Germany</td>\n",
       "      <td>3,677,439</td>\n",
       "    </tr>\n",
       "  </tbody>\n",
       "</table>\n",
       "</div>"
      ],
      "text/plain": [
       "  Rank             Country  GDP(US$MM)\n",
       "0    1       United States  19,390,604\n",
       "1       European Union[23]  17,277,698\n",
       "2    2          China[n 4]  12,237,700\n",
       "3    3               Japan   4,872,137\n",
       "4    4             Germany   3,677,439"
      ]
     },
     "execution_count": 25,
     "metadata": {},
     "output_type": "execute_result"
    }
   ],
   "source": [
    "df3 = pd.DataFrame(data_rows3, columns=header3)\n",
    "df3.head()"
   ]
  },
  {
   "cell_type": "markdown",
   "id": "4bac24a7",
   "metadata": {},
   "source": [
    "## 2) Data Wrangling with Python: Activity 8, page 233"
   ]
  },
  {
   "cell_type": "markdown",
   "id": "5d15a72a",
   "metadata": {},
   "source": [
    "***Instructions)***\n",
    "\n",
    "Activity 8: Handling Outliers and Missing Data\n",
    "\n",
    "In this activity, we will identify and get rid of outliers. Here, we have a CSV file. The goal here is to clean the data by using the knowledge that we have learned about so far and come up with a nicely formatted DataFrame. Identify the type of outliers and their effect on the data and clean the messy data.\n",
    "\n",
    "These are the steps that will help you solve this activity:\n",
    "\n",
    "1) Read the visit_data.csv file.\n",
    "2) Check for duplicates.\n",
    "3) Check if any essential column contains NaN.\n",
    "4) Get rid of the outliers.\n",
    "5) Report the size difference.\n",
    "6) Create a box plot to check for outliers.\n",
    "7) Get rid of any outliers.\n"
   ]
  },
  {
   "cell_type": "markdown",
   "id": "33d8529a",
   "metadata": {},
   "source": [
    "***Answer)***"
   ]
  },
  {
   "cell_type": "markdown",
   "id": "6b7b3eb4",
   "metadata": {},
   "source": [
    "**#1.** Read the visit_data.csv file"
   ]
  },
  {
   "cell_type": "code",
   "execution_count": 30,
   "id": "87a77fe8",
   "metadata": {},
   "outputs": [
    {
     "data": {
      "text/html": [
       "<div>\n",
       "<style scoped>\n",
       "    .dataframe tbody tr th:only-of-type {\n",
       "        vertical-align: middle;\n",
       "    }\n",
       "\n",
       "    .dataframe tbody tr th {\n",
       "        vertical-align: top;\n",
       "    }\n",
       "\n",
       "    .dataframe thead th {\n",
       "        text-align: right;\n",
       "    }\n",
       "</style>\n",
       "<table border=\"1\" class=\"dataframe\">\n",
       "  <thead>\n",
       "    <tr style=\"text-align: right;\">\n",
       "      <th></th>\n",
       "      <th>id</th>\n",
       "      <th>first_name</th>\n",
       "      <th>last_name</th>\n",
       "      <th>email</th>\n",
       "      <th>gender</th>\n",
       "      <th>ip_address</th>\n",
       "      <th>visit</th>\n",
       "    </tr>\n",
       "  </thead>\n",
       "  <tbody>\n",
       "    <tr>\n",
       "      <th>0</th>\n",
       "      <td>1</td>\n",
       "      <td>Sonny</td>\n",
       "      <td>Dahl</td>\n",
       "      <td>sdahl0@mysql.com</td>\n",
       "      <td>Male</td>\n",
       "      <td>135.36.96.183</td>\n",
       "      <td>1225.0</td>\n",
       "    </tr>\n",
       "    <tr>\n",
       "      <th>1</th>\n",
       "      <td>2</td>\n",
       "      <td>NaN</td>\n",
       "      <td>NaN</td>\n",
       "      <td>dhoovart1@hud.gov</td>\n",
       "      <td>NaN</td>\n",
       "      <td>237.165.194.143</td>\n",
       "      <td>919.0</td>\n",
       "    </tr>\n",
       "    <tr>\n",
       "      <th>2</th>\n",
       "      <td>3</td>\n",
       "      <td>Gar</td>\n",
       "      <td>Armal</td>\n",
       "      <td>garmal2@technorati.com</td>\n",
       "      <td>NaN</td>\n",
       "      <td>166.43.137.224</td>\n",
       "      <td>271.0</td>\n",
       "    </tr>\n",
       "    <tr>\n",
       "      <th>3</th>\n",
       "      <td>4</td>\n",
       "      <td>Chiarra</td>\n",
       "      <td>Nulty</td>\n",
       "      <td>cnulty3@newyorker.com</td>\n",
       "      <td>NaN</td>\n",
       "      <td>139.98.137.108</td>\n",
       "      <td>1002.0</td>\n",
       "    </tr>\n",
       "    <tr>\n",
       "      <th>4</th>\n",
       "      <td>5</td>\n",
       "      <td>NaN</td>\n",
       "      <td>NaN</td>\n",
       "      <td>sleaver4@elegantthemes.com</td>\n",
       "      <td>NaN</td>\n",
       "      <td>46.117.117.27</td>\n",
       "      <td>2434.0</td>\n",
       "    </tr>\n",
       "  </tbody>\n",
       "</table>\n",
       "</div>"
      ],
      "text/plain": [
       "   id first_name last_name                       email gender  \\\n",
       "0   1      Sonny      Dahl            sdahl0@mysql.com   Male   \n",
       "1   2        NaN       NaN           dhoovart1@hud.gov    NaN   \n",
       "2   3        Gar     Armal      garmal2@technorati.com    NaN   \n",
       "3   4    Chiarra     Nulty       cnulty3@newyorker.com    NaN   \n",
       "4   5        NaN       NaN  sleaver4@elegantthemes.com    NaN   \n",
       "\n",
       "        ip_address   visit  \n",
       "0    135.36.96.183  1225.0  \n",
       "1  237.165.194.143   919.0  \n",
       "2   166.43.137.224   271.0  \n",
       "3   139.98.137.108  1002.0  \n",
       "4    46.117.117.27  2434.0  "
      ]
     },
     "execution_count": 30,
     "metadata": {},
     "output_type": "execute_result"
    }
   ],
   "source": [
    "import pandas as pd\n",
    "import numpy as np\n",
    "import matplotlib.pyplot as plt\n",
    "\n",
    "%matplotlib inline\n",
    "\n",
    "dfCSV = pd.read_csv(\"visit_data.csv\")\n",
    "\n",
    "dfCSV.head()"
   ]
  },
  {
   "cell_type": "markdown",
   "id": "693372cc",
   "metadata": {},
   "source": [
    "**#2.** Check for duplicates."
   ]
  },
  {
   "cell_type": "code",
   "execution_count": 33,
   "id": "502df908",
   "metadata": {},
   "outputs": [
    {
     "name": "stdout",
     "output_type": "stream",
     "text": [
      "First name is duplictaed - True\n",
      "Last name is duplictaed - True\n",
      "Email is duplictaed - False\n",
      "ip_address is duplictaed - False\n"
     ]
    }
   ],
   "source": [
    "print(\"First name is duplictaed - {}\".format(any(dfCSV.first_name.duplicated())))\n",
    "print(\"Last name is duplictaed - {}\".format(any(dfCSV.last_name.duplicated())))\n",
    "print(\"Email is duplictaed - {}\".format(any(dfCSV.email.duplicated())))\n",
    "print(\"ip_address is duplictaed - {}\".format(any(dfCSV.ip_address.duplicated())))"
   ]
  },
  {
   "cell_type": "markdown",
   "id": "d3442ab9",
   "metadata": {},
   "source": [
    "**#3.** Check if any essential column contains NaN."
   ]
  },
  {
   "cell_type": "markdown",
   "id": "8084b3d3",
   "metadata": {},
   "source": [
    "The activity labels these columns as essential, and any records within these columns with NaN values will need to be considered outliers and removed."
   ]
  },
  {
   "cell_type": "code",
   "execution_count": 34,
   "id": "7b67dcad",
   "metadata": {},
   "outputs": [
    {
     "name": "stdout",
     "output_type": "stream",
     "text": [
      "The column Email contains NaN - False \n",
      "The column IP Address contains NaN - False \n",
      "The column Visit contains NaN - True \n"
     ]
    }
   ],
   "source": [
    "# Boolean values can be formatted in different ways with the % operator\n",
    "print(\"The column Email contains NaN - %r \" % dfCSV.email.isnull().values.any())\n",
    "print(\"The column IP Address contains NaN - %s \" % dfCSV.ip_address.isnull().values.any())\n",
    "print(\"The column Visit contains NaN - %s \" % dfCSV.visit.isnull().values.any())"
   ]
  },
  {
   "cell_type": "markdown",
   "id": "6c1a99e7",
   "metadata": {},
   "source": [
    "**#4.** Get rid of the outliers."
   ]
  },
  {
   "cell_type": "code",
   "execution_count": 56,
   "id": "d9839937",
   "metadata": {},
   "outputs": [
    {
     "name": "stdout",
     "output_type": "stream",
     "text": [
      "Original Dimensions: (1000, 7)\n",
      "New Dimensions: (974, 7)\n"
     ]
    }
   ],
   "source": [
    "pre_size = dfCSV.shape\n",
    "print(\"Original Dimensions:\",pre_size)\n",
    "\n",
    "dfCSV2 = dfCSV.dropna(subset=['visit'])\n",
    "post_size = dfCSV2.shape\n",
    "print(\"New Dimensions:\",post_size)\n",
    "\n"
   ]
  },
  {
   "cell_type": "markdown",
   "id": "8a76b036",
   "metadata": {},
   "source": [
    "**#5.** Report the size difference."
   ]
  },
  {
   "cell_type": "markdown",
   "id": "e41d02f0",
   "metadata": {},
   "source": [
    "As previously shown in the size variables above, the difference is of 26 rows."
   ]
  },
  {
   "cell_type": "code",
   "execution_count": 65,
   "id": "49e533c3",
   "metadata": {},
   "outputs": [
    {
     "name": "stdout",
     "output_type": "stream",
     "text": [
      "Size Difference between the rows is: 26 Rows\n"
     ]
    }
   ],
   "source": [
    "size_difference = pre_size[0] - post_size[0]\n",
    "print(\"Size Difference between the rows is:\",size_difference,\"Rows\")"
   ]
  },
  {
   "cell_type": "markdown",
   "id": "c26c2a57",
   "metadata": {},
   "source": [
    "**#6.** Create a box plot to check for outliers."
   ]
  },
  {
   "cell_type": "markdown",
   "id": "9b7d6965",
   "metadata": {},
   "source": [
    "The activity has us checking for outliers in the visit column, and then removing any extreme values."
   ]
  },
  {
   "cell_type": "code",
   "execution_count": 67,
   "id": "2347abfe",
   "metadata": {},
   "outputs": [
    {
     "data": {
      "text/plain": [
       "{'whiskers': [<matplotlib.lines.Line2D at 0x22c80266690>,\n",
       "  <matplotlib.lines.Line2D at 0x22c80265790>],\n",
       " 'caps': [<matplotlib.lines.Line2D at 0x22c8021ce10>,\n",
       "  <matplotlib.lines.Line2D at 0x22c80216ad0>],\n",
       " 'boxes': [<matplotlib.lines.Line2D at 0x22c80264210>],\n",
       " 'medians': [<matplotlib.lines.Line2D at 0x22c80217650>],\n",
       " 'fliers': [<matplotlib.lines.Line2D at 0x22c80216690>],\n",
       " 'means': []}"
      ]
     },
     "execution_count": 67,
     "metadata": {},
     "output_type": "execute_result"
    },
    {
     "data": {
      "image/png": "[encoded data removed]",
      "text/plain": [
       "<Figure size 640x480 with 1 Axes>"
      ]
     },
     "metadata": {},
     "output_type": "display_data"
    }
   ],
   "source": [
    "plt.boxplot(dfCSV2.visit)"
   ]
  },
  {
   "cell_type": "markdown",
   "id": "e2bf15e4",
   "metadata": {},
   "source": [
    "**#7.** Get rid of any outliers."
   ]
  },
  {
   "cell_type": "code",
   "execution_count": 68,
   "id": "81377ab8",
   "metadata": {},
   "outputs": [],
   "source": [
    "# the & operator works like AND in SQL in this context\n",
    "# Here we get rid of what are considered outliers in the visit column.\n",
    "dfCSV3 = dfCSV2[(dfCSV2['visit'] <= 2900) & (dfCSV2['visit'] >= 100)]"
   ]
  },
  {
   "cell_type": "code",
   "execution_count": 69,
   "id": "1d2a1cad",
   "metadata": {},
   "outputs": [
    {
     "data": {
      "text/plain": [
       "(923, 7)"
      ]
     },
     "execution_count": 69,
     "metadata": {},
     "output_type": "execute_result"
    }
   ],
   "source": [
    "dfCSV3.shape"
   ]
  },
  {
   "cell_type": "markdown",
   "id": "ec2e6ca6",
   "metadata": {},
   "source": [
    "## 3) Insert data into a SQL Lite Database"
   ]
  },
  {
   "cell_type": "markdown",
   "id": "7d6b8607",
   "metadata": {},
   "source": [
    "***Instructions)***\n",
    "\n",
    "Activity 8: Insert data into a SQL Lite database\n",
    "\n",
    "Create a table with the following data below that you will create yourself.\n",
    "\n",
    "*(Hint on how to create the SQL: Python for Data Analysis 2nd edition page 191, Python for Data Analysis 3rd Edition: Page 199)*\n",
    "\n",
    "- Name, Address, City, State, Zip, Phone Number\n",
    "- Add at least 10 rows of data and submit your code with a query generating your results.\n"
   ]
  },
  {
   "cell_type": "code",
   "execution_count": 87,
   "id": "283a9341",
   "metadata": {},
   "outputs": [],
   "source": [
    "import sqlite3\n",
    "\n",
    "# Setting up the table\n",
    "query2 = \"\"\"\n",
    "CREATE TABLE table2\n",
    "(Name VARCHAR(20)\n",
    ",Address VARCHAR(20)\n",
    ",City VARCHAR(20)\n",
    ",State VARCHAR(20)\n",
    ",Zip VARCHAR(20)\n",
    ",Phone_Number VARCHAR(20))\n",
    ";\"\"\"\n",
    "\n",
    "con = sqlite3.connect(\"mydata.sqlite\")\n",
    "con.execute(query2)\n",
    "con.commit()\n"
   ]
  },
  {
   "cell_type": "code",
   "execution_count": 88,
   "id": "15e57646",
   "metadata": {},
   "outputs": [],
   "source": [
    "# Inserting Rows of Data\n",
    "data = [(\"Jhon\",\"2 West Ivy Lane\",\"Oxon Hill\",\"MD\",\"20745\",\"(390) 954-4505\"),\n",
    "       (\"Ivan\",\"420 Clinton St.\",\"Huntington Station\",\"NY\",\"11746\",\"(679) 599-0738\"),\n",
    "       (\"Vanessa\",\"8640 Purple Finch Dr.\",\"Far Rockaway\",\"NY\",\"11691\",\"(450) 840-7854\"),\n",
    "       (\"Everly\",\"346 Railroad Dr.\",\"Moncks Corner\",\"SC\",\"29461\",\"(431) 814-6011\"),\n",
    "       (\"Amelia\",\"8594 Henry Smith St.\",\"Omaha\",\"NE\",\"68107\",\"(912) 280-9529\"),\n",
    "       (\"Luis\",\"982 Sunnyslope Street\",\"Saratoga Springs\",\"NY\",\"12866\",\"(641) 806-4193\"),\n",
    "       (\"Roger\",\"60 San Juan Road\",\"Dayton\",\"OH\",\"45420\",\"(487) 953-1051\"),\n",
    "       (\"Nicole\",\"8911 Old Wild Rose St.\",\"Salem\",\"MA\",\"01970\",\"(369) 827-8526\"),\n",
    "       (\"Camille\",\"8188 Circle Lane\",\"Shirley\",\"NY\",\"11967\",\"(511) 386-6631\"),\n",
    "       (\"Alex\",\"9835 Miles Street\",\"Honolulu\",\"HI\",\"96815\",\"(462) 840-4687\")]\n",
    "stmt = \"INSERT INTO table2 VALUES(?, ?, ?, ?, ?, ?)\"\n",
    "\n",
    "con.executemany(stmt, data)\n",
    "con.commit()"
   ]
  },
  {
   "cell_type": "code",
   "execution_count": 89,
   "id": "2dcf92b2",
   "metadata": {},
   "outputs": [
    {
     "data": {
      "text/plain": [
       "[('Jhon', '2 West Ivy Lane', 'Oxon Hill', 'MD', '20745', '(390) 954-4505'),\n",
       " ('Ivan',\n",
       "  '420 Clinton St.',\n",
       "  'Huntington Station',\n",
       "  'NY',\n",
       "  '11746',\n",
       "  '(679) 599-0738'),\n",
       " ('Vanessa',\n",
       "  '8640 Purple Finch Dr.',\n",
       "  'Far Rockaway',\n",
       "  'NY',\n",
       "  '11691',\n",
       "  '(450) 840-7854'),\n",
       " ('Everly',\n",
       "  '346 Railroad Dr.',\n",
       "  'Moncks Corner',\n",
       "  'SC',\n",
       "  '29461',\n",
       "  '(431) 814-6011'),\n",
       " ('Amelia', '8594 Henry Smith St.', 'Omaha', 'NE', '68107', '(912) 280-9529'),\n",
       " ('Luis',\n",
       "  '982 Sunnyslope Street',\n",
       "  'Saratoga Springs',\n",
       "  'NY',\n",
       "  '12866',\n",
       "  '(641) 806-4193'),\n",
       " ('Roger', '60 San Juan Road', 'Dayton', 'OH', '45420', '(487) 953-1051'),\n",
       " ('Nicole',\n",
       "  '8911 Old Wild Rose St.',\n",
       "  'Salem',\n",
       "  'MA',\n",
       "  '01970',\n",
       "  '(369) 827-8526'),\n",
       " ('Camille', '8188 Circle Lane', 'Shirley', 'NY', '11967', '(511) 386-6631'),\n",
       " ('Alex', '9835 Miles Street', 'Honolulu', 'HI', '96815', '(462) 840-4687')]"
      ]
     },
     "execution_count": 89,
     "metadata": {},
     "output_type": "execute_result"
    }
   ],
   "source": [
    "# Selecting table data from Python SQL drivers\n",
    "cursor = con.execute(\"SELECT * FROM table2\")\n",
    "rows = cursor.fetchall()\n",
    "rows"
   ]
  },
  {
   "cell_type": "code",
   "execution_count": 90,
   "id": "a6b37dd4",
   "metadata": {},
   "outputs": [
    {
     "data": {
      "text/plain": [
       "(('Name', None, None, None, None, None, None),\n",
       " ('Address', None, None, None, None, None, None),\n",
       " ('City', None, None, None, None, None, None),\n",
       " ('State', None, None, None, None, None, None),\n",
       " ('Zip', None, None, None, None, None, None),\n",
       " ('Phone_Number', None, None, None, None, None, None))"
      ]
     },
     "execution_count": 90,
     "metadata": {},
     "output_type": "execute_result"
    }
   ],
   "source": [
    "# Checking the column names from the cursor.description\n",
    "cursor.description"
   ]
  },
  {
   "cell_type": "code",
   "execution_count": 91,
   "id": "ee7fcf82",
   "metadata": {},
   "outputs": [
    {
     "data": {
      "text/html": [
       "<div>\n",
       "<style scoped>\n",
       "    .dataframe tbody tr th:only-of-type {\n",
       "        vertical-align: middle;\n",
       "    }\n",
       "\n",
       "    .dataframe tbody tr th {\n",
       "        vertical-align: top;\n",
       "    }\n",
       "\n",
       "    .dataframe thead th {\n",
       "        text-align: right;\n",
       "    }\n",
       "</style>\n",
       "<table border=\"1\" class=\"dataframe\">\n",
       "  <thead>\n",
       "    <tr style=\"text-align: right;\">\n",
       "      <th></th>\n",
       "      <th>Name</th>\n",
       "      <th>Address</th>\n",
       "      <th>City</th>\n",
       "      <th>State</th>\n",
       "      <th>Zip</th>\n",
       "      <th>Phone_Number</th>\n",
       "    </tr>\n",
       "  </thead>\n",
       "  <tbody>\n",
       "    <tr>\n",
       "      <th>0</th>\n",
       "      <td>Jhon</td>\n",
       "      <td>2 West Ivy Lane</td>\n",
       "      <td>Oxon Hill</td>\n",
       "      <td>MD</td>\n",
       "      <td>20745</td>\n",
       "      <td>(390) 954-4505</td>\n",
       "    </tr>\n",
       "    <tr>\n",
       "      <th>1</th>\n",
       "      <td>Ivan</td>\n",
       "      <td>420 Clinton St.</td>\n",
       "      <td>Huntington Station</td>\n",
       "      <td>NY</td>\n",
       "      <td>11746</td>\n",
       "      <td>(679) 599-0738</td>\n",
       "    </tr>\n",
       "    <tr>\n",
       "      <th>2</th>\n",
       "      <td>Vanessa</td>\n",
       "      <td>8640 Purple Finch Dr.</td>\n",
       "      <td>Far Rockaway</td>\n",
       "      <td>NY</td>\n",
       "      <td>11691</td>\n",
       "      <td>(450) 840-7854</td>\n",
       "    </tr>\n",
       "    <tr>\n",
       "      <th>3</th>\n",
       "      <td>Everly</td>\n",
       "      <td>346 Railroad Dr.</td>\n",
       "      <td>Moncks Corner</td>\n",
       "      <td>SC</td>\n",
       "      <td>29461</td>\n",
       "      <td>(431) 814-6011</td>\n",
       "    </tr>\n",
       "    <tr>\n",
       "      <th>4</th>\n",
       "      <td>Amelia</td>\n",
       "      <td>8594 Henry Smith St.</td>\n",
       "      <td>Omaha</td>\n",
       "      <td>NE</td>\n",
       "      <td>68107</td>\n",
       "      <td>(912) 280-9529</td>\n",
       "    </tr>\n",
       "    <tr>\n",
       "      <th>5</th>\n",
       "      <td>Luis</td>\n",
       "      <td>982 Sunnyslope Street</td>\n",
       "      <td>Saratoga Springs</td>\n",
       "      <td>NY</td>\n",
       "      <td>12866</td>\n",
       "      <td>(641) 806-4193</td>\n",
       "    </tr>\n",
       "    <tr>\n",
       "      <th>6</th>\n",
       "      <td>Roger</td>\n",
       "      <td>60 San Juan Road</td>\n",
       "      <td>Dayton</td>\n",
       "      <td>OH</td>\n",
       "      <td>45420</td>\n",
       "      <td>(487) 953-1051</td>\n",
       "    </tr>\n",
       "    <tr>\n",
       "      <th>7</th>\n",
       "      <td>Nicole</td>\n",
       "      <td>8911 Old Wild Rose St.</td>\n",
       "      <td>Salem</td>\n",
       "      <td>MA</td>\n",
       "      <td>01970</td>\n",
       "      <td>(369) 827-8526</td>\n",
       "    </tr>\n",
       "    <tr>\n",
       "      <th>8</th>\n",
       "      <td>Camille</td>\n",
       "      <td>8188 Circle Lane</td>\n",
       "      <td>Shirley</td>\n",
       "      <td>NY</td>\n",
       "      <td>11967</td>\n",
       "      <td>(511) 386-6631</td>\n",
       "    </tr>\n",
       "    <tr>\n",
       "      <th>9</th>\n",
       "      <td>Alex</td>\n",
       "      <td>9835 Miles Street</td>\n",
       "      <td>Honolulu</td>\n",
       "      <td>HI</td>\n",
       "      <td>96815</td>\n",
       "      <td>(462) 840-4687</td>\n",
       "    </tr>\n",
       "  </tbody>\n",
       "</table>\n",
       "</div>"
      ],
      "text/plain": [
       "      Name                 Address                City State    Zip  \\\n",
       "0     Jhon         2 West Ivy Lane           Oxon Hill    MD  20745   \n",
       "1     Ivan         420 Clinton St.  Huntington Station    NY  11746   \n",
       "2  Vanessa   8640 Purple Finch Dr.        Far Rockaway    NY  11691   \n",
       "3   Everly        346 Railroad Dr.       Moncks Corner    SC  29461   \n",
       "4   Amelia    8594 Henry Smith St.               Omaha    NE  68107   \n",
       "5     Luis   982 Sunnyslope Street    Saratoga Springs    NY  12866   \n",
       "6    Roger        60 San Juan Road              Dayton    OH  45420   \n",
       "7   Nicole  8911 Old Wild Rose St.               Salem    MA  01970   \n",
       "8  Camille        8188 Circle Lane             Shirley    NY  11967   \n",
       "9     Alex       9835 Miles Street            Honolulu    HI  96815   \n",
       "\n",
       "     Phone_Number  \n",
       "0  (390) 954-4505  \n",
       "1  (679) 599-0738  \n",
       "2  (450) 840-7854  \n",
       "3  (431) 814-6011  \n",
       "4  (912) 280-9529  \n",
       "5  (641) 806-4193  \n",
       "6  (487) 953-1051  \n",
       "7  (369) 827-8526  \n",
       "8  (511) 386-6631  \n",
       "9  (462) 840-4687  "
      ]
     },
     "execution_count": 91,
     "metadata": {},
     "output_type": "execute_result"
    }
   ],
   "source": [
    "# Passing the query results in the 'rows' variable into a dataframe. Also passing the column names from cursor.description\n",
    "pd.DataFrame(rows, columns=[x[0] for x in cursor.description])"
   ]
  }
 ],
 "metadata": {
  "kernelspec": {
   "display_name": "Python 3 (ipykernel)",
   "language": "python",
   "name": "python3"
  },
  "language_info": {
   "codemirror_mode": {
    "name": "ipython",
    "version": 3
   },
   "file_extension": ".py",
   "mimetype": "text/x-python",
   "name": "python",
   "nbconvert_exporter": "python",
   "pygments_lexer": "ipython3",
   "version": "3.11.4"
  }
 },
 "nbformat": 4,
 "nbformat_minor": 5
}
