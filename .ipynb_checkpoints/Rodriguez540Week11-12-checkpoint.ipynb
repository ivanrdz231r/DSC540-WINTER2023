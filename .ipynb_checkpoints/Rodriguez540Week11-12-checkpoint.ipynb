{
 "cells": [
  {
   "cell_type": "markdown",
   "id": "d346fb97",
   "metadata": {},
   "source": [
    "# Weeks 11 & 12 Exercises"
   ]
  },
  {
   "cell_type": "markdown",
   "id": "20535c8c",
   "metadata": {},
   "source": [
    "## Data Wrangling with Python: Activity 11, page 320"
   ]
  },
  {
   "cell_type": "markdown",
   "id": "071fbe74",
   "metadata": {},
   "source": [
    "***Instructions)***\n",
    "\n",
    "In this activity, we have the *persons* table and the *pets* table.\n",
    "\n",
    "The **id** column in the persons table (which is an integer) serves as the primary key for that table and as a foreign key for the pet table, which is linked via the **owner_id column**.\n",
    "\n",
    "The **persons** table has the following columns:\n",
    "\n",
    "- **first_name:** The first name of the person\n",
    "- **last_name:** The last name of the person (can be \"null\")\n",
    "- **age:** The age of the person\n",
    "- **city:** The city from where he/she is from\n",
    "- **zip_code:** The zip code of the city\n",
    "\n",
    "The **pets** table has the following columns:\n",
    "\n",
    "- **pet_name:** The name of the pet.\n",
    "- **pet_type:** What type of pet it is, for example, cat, dog, and so on. Due to a lack of further information, we do not know which number represents what, but it is an integer and can be null.\n",
    "- **treatment_done:** It is also an integer column, and 0 here represents \"No\", whereas 1 represents \"Yes\".\n",
    "\n",
    "The name of the SQLite DB is **petsdb** and it is supplied along with the Activity notebook.\n",
    "\n",
    "These steps will help you complete this activity:\n",
    "\n",
    "1. Connect to petsDB and check whether the connection has been successful.\n",
    "2. Find the different age groups in the persons database.\n",
    "3. Find the age group that has the maximum number of people.\n",
    "4. Find the people who do not have a last name.\n",
    "5. Find out how many people have more than one pet.\n",
    "6. Find out how many pets have received treatment.\n",
    "7. Find out how many pets have received treatment and the type of pet is known.\n",
    "8. Find out how many pets are from the city called east port.\n",
    "9. Find out how many pets are from the city called east port and who received a treatment.\n"
   ]
  },
  {
   "cell_type": "markdown",
   "id": "bc0fd530",
   "metadata": {},
   "source": [
    "### 1 Connect the petsDB and check the connection status"
   ]
  },
  {
   "cell_type": "code",
   "execution_count": 1,
   "id": "948d098c",
   "metadata": {},
   "outputs": [],
   "source": [
    "import sqlite3\n",
    "\n",
    "# connect to the pets db\n",
    "conn = sqlite3.connect(\"petsdb\")"
   ]
  },
  {
   "cell_type": "code",
   "execution_count": 7,
   "id": "370b2d5f",
   "metadata": {},
   "outputs": [],
   "source": [
    "# function to make sure the connection is successful\n",
    "def is_opened(conn):\n",
    "    try:\n",
    "        conn.execute(\"SELECT * FROM person LIMIT 1\")\n",
    "        return True\n",
    "    except sqlite3.ProgrammingError as e:\n",
    "        print(\"Connection closed {}\".format(e))\n",
    "        return False"
   ]
  },
  {
   "cell_type": "code",
   "execution_count": 8,
   "id": "aed4d9bb",
   "metadata": {},
   "outputs": [
    {
     "name": "stdout",
     "output_type": "stream",
     "text": [
      "True\n"
     ]
    }
   ],
   "source": [
    "print(is_opened(conn))"
   ]
  },
  {
   "cell_type": "code",
   "execution_count": 4,
   "id": "86c88ca4",
   "metadata": {},
   "outputs": [
    {
     "name": "stdout",
     "output_type": "stream",
     "text": [
      "[('persons',), ('pets',)]\n"
     ]
    }
   ],
   "source": [
    "# used to list out what tables are in the db file\n",
    "cursor = conn.cursor()\n",
    "cursor.execute(\"SELECT name FROM sqlite_master WHERE type='table';\")\n",
    "print(cursor.fetchall())"
   ]
  },
  {
   "cell_type": "markdown",
   "id": "9cec7b37",
   "metadata": {},
   "source": [
    "### 2. Find the different age groups in the persons database"
   ]
  },
  {
   "cell_type": "code",
   "execution_count": 9,
   "id": "a3684a1c",
   "metadata": {},
   "outputs": [],
   "source": [
    "conn = sqlite3.connect(\"petsdb\")"
   ]
  },
  {
   "cell_type": "code",
   "execution_count": 10,
   "id": "ed3c520f",
   "metadata": {},
   "outputs": [],
   "source": [
    "c = conn.cursor()"
   ]
  },
  {
   "cell_type": "code",
   "execution_count": 11,
   "id": "949cf063",
   "metadata": {},
   "outputs": [
    {
     "name": "stdout",
     "output_type": "stream",
     "text": [
      "We have 2 people aged 5\n",
      "We have 1 people aged 6\n",
      "We have 1 people aged 7\n",
      "We have 3 people aged 8\n",
      "We have 1 people aged 9\n",
      "We have 2 people aged 11\n",
      "We have 3 people aged 12\n",
      "We have 1 people aged 13\n",
      "We have 4 people aged 14\n",
      "We have 2 people aged 16\n",
      "We have 2 people aged 17\n",
      "We have 3 people aged 18\n",
      "We have 1 people aged 19\n",
      "We have 3 people aged 22\n",
      "We have 2 people aged 23\n",
      "We have 3 people aged 24\n",
      "We have 2 people aged 25\n",
      "We have 1 people aged 27\n",
      "We have 1 people aged 30\n",
      "We have 3 people aged 31\n",
      "We have 1 people aged 32\n",
      "We have 1 people aged 33\n",
      "We have 2 people aged 34\n",
      "We have 3 people aged 35\n",
      "We have 3 people aged 36\n",
      "We have 1 people aged 37\n",
      "We have 2 people aged 39\n",
      "We have 1 people aged 40\n",
      "We have 1 people aged 42\n",
      "We have 2 people aged 44\n",
      "We have 2 people aged 48\n",
      "We have 1 people aged 49\n",
      "We have 1 people aged 50\n",
      "We have 2 people aged 51\n",
      "We have 2 people aged 52\n",
      "We have 2 people aged 53\n",
      "We have 2 people aged 54\n",
      "We have 1 people aged 58\n",
      "We have 1 people aged 59\n",
      "We have 1 people aged 60\n",
      "We have 1 people aged 61\n",
      "We have 2 people aged 62\n",
      "We have 1 people aged 63\n",
      "We have 2 people aged 65\n",
      "We have 2 people aged 66\n",
      "We have 1 people aged 67\n",
      "We have 3 people aged 68\n",
      "We have 1 people aged 69\n",
      "We have 1 people aged 70\n",
      "We have 4 people aged 71\n",
      "We have 1 people aged 72\n",
      "We have 5 people aged 73\n",
      "We have 3 people aged 74\n"
     ]
    }
   ],
   "source": [
    "# selecting all records from 'age' column and grouping by 'age'\n",
    "for ppl, age in c.execute(\"SELECT count(*), age FROM persons GROUP BY age\"):\n",
    "    print(\"We have {} people aged {}\".format(ppl, age))"
   ]
  },
  {
   "cell_type": "markdown",
   "id": "608ad34e",
   "metadata": {},
   "source": [
    "### 3. Find the age group that has the maximum number of people."
   ]
  },
  {
   "cell_type": "code",
   "execution_count": 12,
   "id": "07e897fc",
   "metadata": {},
   "outputs": [
    {
     "name": "stdout",
     "output_type": "stream",
     "text": [
      "Highest number of people 5 came from 73 age group\n"
     ]
    }
   ],
   "source": [
    "# counting all within the age column and grouping by age then sorting to descending. break after 1 record is returned.\n",
    "for ppl, age in c.execute(\"SELECT count(*), age FROM persons GROUP BY age ORDER BY count(*) DESC\"):\n",
    "    print(\"Highest number of people {} came from {} age group\".format(ppl, age))\n",
    "    break"
   ]
  },
  {
   "cell_type": "markdown",
   "id": "9fff5fa2",
   "metadata": {},
   "source": [
    "### 4. Find the people who do not have a last name."
   ]
  },
  {
   "cell_type": "code",
   "execution_count": 17,
   "id": "9088aae7",
   "metadata": {},
   "outputs": [
    {
     "name": "stdout",
     "output_type": "stream",
     "text": [
      "60 Records have no last name\n"
     ]
    }
   ],
   "source": [
    "for r, last_name in c.execute(\"SELECT count(*), last_name FROM persons WHERE last_name isnull\"):\n",
    "    print(\"{} Records have no last name\".format(r))"
   ]
  },
  {
   "cell_type": "markdown",
   "id": "24973109",
   "metadata": {},
   "source": [
    "### 5. Find out how many people have more than one pet."
   ]
  },
  {
   "cell_type": "code",
   "execution_count": 35,
   "id": "535a09af",
   "metadata": {},
   "outputs": [
    {
     "name": "stdout",
     "output_type": "stream",
     "text": [
      "43 People have more than one pets\n"
     ]
    }
   ],
   "source": [
    "res = c.execute(\"SELECT count(*) FROM (SELECT count(owner_id) FROM pets GROUP BY owner_id HAVING count(owner_id) >1)\")\n",
    "for row in res:\n",
    "    print(\"{} People have more than one pets\".format(row[0]))"
   ]
  },
  {
   "cell_type": "markdown",
   "id": "af806c15",
   "metadata": {},
   "source": [
    "### 6. Find out how many pets have received treatment."
   ]
  },
  {
   "cell_type": "code",
   "execution_count": 20,
   "id": "3f10c0cc",
   "metadata": {},
   "outputs": [
    {
     "name": "stdout",
     "output_type": "stream",
     "text": [
      "(36,)\n"
     ]
    }
   ],
   "source": [
    "res = c.execute(\"SELECT count(*) FROM pets WHERE treatment_done=1\")\n",
    "for row in res:\n",
    "    print(row)"
   ]
  },
  {
   "cell_type": "markdown",
   "id": "144983af",
   "metadata": {},
   "source": [
    "### 7. Find out how many pets have received treatment and the type of pet is known."
   ]
  },
  {
   "cell_type": "code",
   "execution_count": 24,
   "id": "e71b84b7",
   "metadata": {},
   "outputs": [
    {
     "name": "stdout",
     "output_type": "stream",
     "text": [
      "(16,)\n"
     ]
    }
   ],
   "source": [
    "res = c.execute(\"SELECT count(*) FROM pets WHERE treatment_done=1 AND pet_type is not null\")\n",
    "for row in res:\n",
    "    print(row)\n"
   ]
  },
  {
   "cell_type": "markdown",
   "id": "1a244394",
   "metadata": {},
   "source": [
    "### 8. Find out how many pets are from the city called east port."
   ]
  },
  {
   "cell_type": "code",
   "execution_count": 31,
   "id": "7642fece",
   "metadata": {},
   "outputs": [
    {
     "name": "stdout",
     "output_type": "stream",
     "text": [
      "(49,)\n"
     ]
    }
   ],
   "source": [
    "# SELECT count(*)\n",
    "# FROM persons as ppl\n",
    "# JOIN pets as pt \n",
    "# ON pt.owner_id = ppl.id\n",
    "# WHERE ppl.city = 'east port'\n",
    "\n",
    "res = c.execute(\"SELECT count(*) FROM persons as ppl JOIN pets as pt ON pt.owner_id = ppl.id WHERE ppl.city = 'east port'\")\n",
    "for row in res:\n",
    "    print(row)\n"
   ]
  },
  {
   "cell_type": "markdown",
   "id": "48f76b82",
   "metadata": {},
   "source": [
    "### 9. Find out how many pets are from the city called east port and who received a treatment."
   ]
  },
  {
   "cell_type": "code",
   "execution_count": 34,
   "id": "b0f95d22",
   "metadata": {},
   "outputs": [
    {
     "name": "stdout",
     "output_type": "stream",
     "text": [
      "(11,)\n"
     ]
    }
   ],
   "source": [
    "# SELECT count(*)\n",
    "# FROM persons as ppl\n",
    "# JOIN pets as pt \n",
    "# ON pt.owner_id = ppl.id\n",
    "# WHERE ppl.city = 'east port'\n",
    "# AND pt.treatment_done = 1\n",
    "\n",
    "res = c.execute(\"SELECT count(*) FROM persons as ppl JOIN pets as pt ON pt.owner_id = ppl.id WHERE ppl.city = 'east port' AND pt.treatment_done = 1\")\n",
    "for row in res:\n",
    "    print(row)"
   ]
  }
 ],
 "metadata": {
  "kernelspec": {
   "display_name": "Python 3 (ipykernel)",
   "language": "python",
   "name": "python3"
  },
  "language_info": {
   "codemirror_mode": {
    "name": "ipython",
    "version": 3
   },
   "file_extension": ".py",
   "mimetype": "text/x-python",
   "name": "python",
   "nbconvert_exporter": "python",
   "pygments_lexer": "ipython3",
   "version": "3.11.4"
  }
 },
 "nbformat": 4,
 "nbformat_minor": 5
}
