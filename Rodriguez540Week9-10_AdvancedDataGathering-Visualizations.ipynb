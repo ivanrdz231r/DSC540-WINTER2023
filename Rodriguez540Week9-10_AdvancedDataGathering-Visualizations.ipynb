{
 "cells": [
  {
   "cell_type": "markdown",
   "id": "bfa049ad",
   "metadata": {
    "id": "bfa049ad"
   },
   "source": [
    "# Weeks 9 & 10 Exercise"
   ]
  },
  {
   "cell_type": "markdown",
   "id": "7596b3a9",
   "metadata": {
    "id": "7596b3a9"
   },
   "source": [
    "## 1) Data Wrangling with Python: Activity 9, page 294"
   ]
  },
  {
   "cell_type": "markdown",
   "id": "415a6f2e",
   "metadata": {
    "id": "415a6f2e"
   },
   "source": [
    "***Instructions)***\n",
    "\n",
    "Project Gutenberg encourages the creation and distribution of eBooks by encouraging volunteer efforts to digitize and archive cultural works. This activity aims to scrape the URL of Project Gutenberg's Top 100 eBooks to identify the eBooks' links. It uses BeautifulSoup4 to parse the HTML and regular expression code to identify the Top 100 eBook file numbers.\n",
    "\n",
    "You can use those book ID numbers to download the book into your local drive if you want.\n",
    "\n",
    "Head over to the supplied Jupyter notebook (in the GitHub repository) to work on this activity.\n",
    "\n",
    "These are the steps that will help you solve this activity:\n",
    "\n",
    "1. Import the necessary libraries, including regex and beautifulsoup.\n",
    "2. Check the SSL certificate.\n",
    "3. Read the HTML from the URL.\n",
    "4. Write a small function to check the status of the web request.\n",
    "5. Decode the response and pass this on to BeautifulSoup for HTML parsing.\n",
    "6. Find all the href tags and store them in the list of links. Check what the list looks like – print the first 30 elements.\n",
    "7. Use a regular expression to find the numeric digits in these links. These are the file numbers for the top 100 eBooks.\n",
    "8. Initialize the empty list to hold the file numbers over an appropriate range and use regex to find the numeric digits in the link href string. Use the findall method.\n",
    "9. What does the soup object's text look like? Use the .text method and print only the first 2,000 characters (do not print the whole thing, as it is too long).\n",
    "10. Search in the extracted text (using a regular expression) from the soup object to find the names of the top 100 eBooks (yesterday's ranking).\n",
    "11. Create a starting index. It should point at the text Top 100 Ebooks yesterday. Use the splitlines method of soup.text. It splits the lines of text of the soup object.\n",
    "12. Loop 1-100 to add the strings of the next 100 lines to this temporary list. Hint: use the splitlines method.\n",
    "13. Use a regular expression to extract only text from the name strings and append it to an empty list. Use match and span to find the indices and use them.\n",
    "\n"
   ]
  },
  {
   "cell_type": "markdown",
   "id": "b3e177bf",
   "metadata": {
    "id": "b3e177bf"
   },
   "source": [
    "***Answer)***"
   ]
  },
  {
   "cell_type": "markdown",
   "id": "5ca856a2",
   "metadata": {},
   "source": [
    "**#1. Import Libraries**"
   ]
  },
  {
   "cell_type": "code",
   "execution_count": 1,
   "id": "b268e1bd",
   "metadata": {},
   "outputs": [],
   "source": [
    "import urllib.request, urllib.parse, urllib.error\n",
    "import requests\n",
    "from bs4 import BeautifulSoup\n",
    "import ssl\n",
    "import re"
   ]
  },
  {
   "cell_type": "markdown",
   "id": "b3aa5263",
   "metadata": {},
   "source": [
    "**#2. Check the SSL Certificate**"
   ]
  },
  {
   "cell_type": "code",
   "execution_count": 2,
   "id": "6d99c3bf",
   "metadata": {},
   "outputs": [],
   "source": [
    "# ignore SSL certificate errors\n",
    "ctx = ssl.create_default_context()\n",
    "ctx.check_hostname = False\n",
    "ctx.verify_mode = ssl.CERT_NONE"
   ]
  },
  {
   "cell_type": "markdown",
   "id": "a65c1a88",
   "metadata": {},
   "source": [
    "**#3. Read teh HTML from the URL**"
   ]
  },
  {
   "cell_type": "code",
   "execution_count": 3,
   "id": "850a96c2",
   "metadata": {},
   "outputs": [],
   "source": [
    "# Read the HTML from the URL and pass on to BeautifulSoup\n",
    "top100url = 'https://www.gutenberg.org/browse/scores/top'\n",
    "response = requests.get(top100url)"
   ]
  },
  {
   "cell_type": "markdown",
   "id": "b7e710f1",
   "metadata": {},
   "source": [
    "**#4. function to check the status of the web request.**"
   ]
  },
  {
   "cell_type": "code",
   "execution_count": 4,
   "id": "cb925b6d",
   "metadata": {},
   "outputs": [],
   "source": [
    "def status_check(r):\n",
    "\n",
    "    if r.status_code==200:\n",
    "        print(\"Success!\")\n",
    "        return 1\n",
    "\n",
    "    else:\n",
    "        print(\"Failed!\")\n",
    "        return -1"
   ]
  },
  {
   "cell_type": "code",
   "execution_count": 5,
   "id": "7a531322",
   "metadata": {},
   "outputs": [
    {
     "name": "stdout",
     "output_type": "stream",
     "text": [
      "Success!\n"
     ]
    },
    {
     "data": {
      "text/plain": [
       "1"
      ]
     },
     "execution_count": 5,
     "metadata": {},
     "output_type": "execute_result"
    }
   ],
   "source": [
    "status_check(response)"
   ]
  },
  {
   "cell_type": "markdown",
   "id": "4fc94ee4",
   "metadata": {},
   "source": [
    "**#5. Decode the response and pass to BeautifulSoup for HTML parsing.**"
   ]
  },
  {
   "cell_type": "code",
   "execution_count": 6,
   "id": "386c9945",
   "metadata": {},
   "outputs": [],
   "source": [
    "contents = response.content.decode(response.encoding)\n",
    "\n",
    "soup = BeautifulSoup(contents, 'html.parser')"
   ]
  },
  {
   "cell_type": "markdown",
   "id": "a1787304",
   "metadata": {},
   "source": [
    "**#8. Find all the href tags and store them in the list of links. Check what the list looks like – print the first 30 elements.**"
   ]
  },
  {
   "cell_type": "code",
   "execution_count": 7,
   "id": "394e99a2",
   "metadata": {},
   "outputs": [],
   "source": [
    "# Empty list to hold all the http links in the HTML page\n",
    "lst_links=[]\n",
    "\n",
    "# Find all the href tags and store them in the list of links\n",
    "for link in soup.find_all('a'):\n",
    "    # print(link.get('href'))\n",
    "    lst_links.append(link.get('href'))"
   ]
  },
  {
   "cell_type": "code",
   "execution_count": 8,
   "id": "ed53134f",
   "metadata": {},
   "outputs": [
    {
     "data": {
      "text/plain": [
       "['/',\n",
       " '/about/',\n",
       " '/about/',\n",
       " '/policy/collection_development.html',\n",
       " '/about/contact_information.html',\n",
       " '/about/background/',\n",
       " '/policy/permission.html',\n",
       " '/policy/privacy_policy.html',\n",
       " '/policy/terms_of_use.html',\n",
       " '/ebooks/',\n",
       " '/ebooks/',\n",
       " '/ebooks/bookshelf/',\n",
       " '/browse/scores/top',\n",
       " '/ebooks/offline_catalogs.html',\n",
       " '/help/',\n",
       " '/help/',\n",
       " '/help/copyright.html',\n",
       " '/help/errata.html',\n",
       " '/help/file_formats.html',\n",
       " '/help/faq.html',\n",
       " '/policy/',\n",
       " '/help/public_domain_ebook_submission.html',\n",
       " '/help/submitting_your_own_work.html',\n",
       " '/help/mobile.html',\n",
       " '/attic/',\n",
       " '/donate/',\n",
       " '/donate/',\n",
       " '#books-last1',\n",
       " '#authors-last1',\n",
       " '#books-last7']"
      ]
     },
     "execution_count": 8,
     "metadata": {},
     "output_type": "execute_result"
    }
   ],
   "source": [
    "lst_links[:30]"
   ]
  },
  {
   "cell_type": "markdown",
   "id": "a3b3c460",
   "metadata": {},
   "source": [
    "**#9. What does the soup object's text look like? Use the .text method and print only the first 2,000 characters (do not print the whole thing, as it is too long).**"
   ]
  },
  {
   "cell_type": "code",
   "execution_count": 9,
   "id": "7c708a1b",
   "metadata": {},
   "outputs": [
    {
     "name": "stdout",
     "output_type": "stream",
     "text": [
      "\n",
      "\n",
      "\n",
      "\n",
      "Top 100 | Project Gutenberg\n",
      "\n",
      "\n",
      "\n",
      "\n",
      "\n",
      "\n",
      "\n",
      "\n",
      "\n",
      "\n",
      "\n",
      "\n",
      "\n",
      "\n",
      "\n",
      "\n",
      "\n",
      "\n",
      "\n",
      "\n",
      "\n",
      "\n",
      "\n",
      "\n",
      "\n",
      "\n",
      "\n",
      "Menu▾\n",
      "\n",
      "\n",
      "\n",
      "About\n",
      "          ▾\n",
      "\n",
      "▾\n",
      "\n",
      "\n",
      "About Project Gutenberg\n",
      "Collection Development\n",
      "Contact Us\n",
      "History & Philosophy\n",
      "Permissions & License\n",
      "Privacy Policy\n",
      "Terms of Use\n",
      "\n",
      "\n",
      "\n",
      "Search and Browse\n",
      "      \t  ▾\n",
      "\n",
      "▾\n",
      "\n",
      "\n",
      "Book Search\n",
      "Bookshelves\n",
      "Frequently Downloaded\n",
      "Offline Catalogs\n",
      "\n",
      "\n",
      "\n",
      "Help\n",
      "          ▾\n",
      "\n",
      "▾\n",
      "\n",
      "\n",
      "All help topics →\n",
      "Copyright How-To\n",
      "Errata, Fixes and Bug Reports\n",
      "File Formats\n",
      "Frequently Asked Questions\n",
      "Policies →\n",
      "Public Domain eBook Submission\n",
      "Submitting Your Own Work\n",
      "Tablets, Phones and eReaders\n",
      "The Attic →\n",
      "\n",
      "\n",
      "Donate\n",
      "\n",
      "\n",
      "\n",
      "\n",
      "\n",
      "\n",
      "\n",
      "\n",
      "\n",
      "\n",
      "Donation\n",
      "\n",
      "\n",
      "\n",
      "\n",
      "\n",
      "\n",
      "\n",
      "Frequently Viewed or Downloaded\n",
      "These listings are based on the number of times each eBook gets downloaded.\n",
      "      Multiple downloads from the same Internet address on the same day count as one download, and addresses that download more than 100 eBooks in a day are considered robots and are not counted.\n",
      "\n",
      "Downloaded Books\n",
      "2024-02-20329242\n",
      "last 7 days2058572\n",
      "last 30 days7541231\n",
      "\n",
      "\n",
      "\n",
      "Top 100 EBooks yesterday\n",
      "Top 100 Authors yesterday\n",
      "Top 100 EBooks last 7 days\n",
      "Top 100 Authors last 7 days\n",
      "Top 100 EBooks last 30 days\n",
      "Top 100 Authors last 30 days\n",
      "\n",
      "\n",
      "Top 100 EBooks yesterday\n",
      "\n",
      "Frankenstein; Or, The Modern Prometheus by Mary Wollstonecraft Shelley (4359)\n",
      "Pride and Prejudice by Jane Austen (3001)\n",
      "Moby Dick; Or, The Whale by Herman Melville (2370)\n",
      "Romeo and Juliet by William Shakespeare (2138)\n",
      "Middlemarch by George Eliot (1650)\n",
      "The Complete Works of William Shakespeare by William Shakespeare (1633)\n",
      "A Room with a View by E. M.  Forster (1589)\n",
      "Little Women; Or, Meg, Jo, Beth, and Amy by Louisa May Alcott (1555)\n",
      "The Great Gatsby by F. Scott  Fitzgerald (1511)\n",
      "The Enchanted April by Elizabeth Von Arnim (1436)\n",
      "The Blue Castle: a novel by L. M.  Montgomery (1424)\n",
      "The Adventures of Ferdinand Count Fathom — Complete by T.  Smollett (1332)\n",
      "Cranford by Elizabeth Cleghorn Gaskell (1326)\n",
      "The Adventures of Roderick Random by T.  Smollett (1312)\n",
      "The Expedition of Humphry Clinker by T.  Smollett (1308)\n",
      "Alice's Adv\n"
     ]
    }
   ],
   "source": [
    "print(soup.text[:2000])"
   ]
  },
  {
   "cell_type": "code",
   "execution_count": 10,
   "id": "86c1c936",
   "metadata": {},
   "outputs": [],
   "source": [
    "# initializing the empty list to hold the file numbers of the top 100 books\n",
    "booknum=[]\n",
    "\n",
    "#33 - 132 are the where the books are in the original list"
   ]
  },
  {
   "cell_type": "code",
   "execution_count": 11,
   "id": "d023c709",
   "metadata": {},
   "outputs": [],
   "source": [
    "for i in range(33,132):\n",
    "    link=lst_links[i]\n",
    "    link=link.strip()\n",
    "    # Regular expression to find the numeric digits in the link (href) string\n",
    "    n=re.findall('[0-9]+',link)\n",
    "    if len(n)==1:\n",
    "        # Append the filenumber casted as integer\n",
    "        booknum.append(int(n[0]))"
   ]
  },
  {
   "cell_type": "code",
   "execution_count": 12,
   "id": "60251dfa",
   "metadata": {},
   "outputs": [
    {
     "name": "stdout",
     "output_type": "stream",
     "text": [
      "\n",
      "The file numbers for the top 100 ebooks on Gutenberg are shown below\n",
      "----------------------------------------------------------------------\n",
      "[84, 1342, 2701, 1513, 145, 100, 2641, 37106, 64317, 16389, 67979, 6761, 394, 4085, 2160, 11, 6593, 1259, 5197, 2542, 174, 1952, 844, 98, 5200, 2554, 345, 1080, 408, 25344, 73001, 72998, 43, 1260, 1400, 219, 76, 28054, 1232, 72996, 1727, 6130, 1661, 2591, 72999, 3207, 4300, 2000, 205, 41445, 768, 46, 5740, 23, 2814, 72997, 2600, 16, 1184, 1998, 58585, 7370, 1497, 45, 996, 30254, 36, 55, 42324, 514, 16328, 74, 158, 15399, 600, 67098, 2097, 161, 244, 8800, 72995, 4363, 16119, 11030, 36034, 10007, 41, 4217, 3825, 2680, 1399, 2852, 33283, 829, 8492, 35, 120, 5827, 140]\n"
     ]
    }
   ],
   "source": [
    "print (\"\\nThe file numbers for the top 100 ebooks on Gutenberg are shown below\\n\"+\"-\"*70)\n",
    "\n",
    "print(booknum)"
   ]
  },
  {
   "cell_type": "markdown",
   "id": "ca8fb8f4",
   "metadata": {},
   "source": [
    "**#10. Search in the extracted text (using a regular expression) from the soup object to find the names of the top 100 eBooks (yesterday's ranking).**"
   ]
  },
  {
   "cell_type": "code",
   "execution_count": 13,
   "id": "75d7762a",
   "metadata": {},
   "outputs": [],
   "source": [
    "# Temp empty list of Ebook names\n",
    "lst_titles_temp=[]"
   ]
  },
  {
   "cell_type": "markdown",
   "id": "3117414c",
   "metadata": {},
   "source": [
    "**#11. Create a starting index. It should point at the text Top 100 Ebooks yesterday. Use the splitlines method of soup.text. It splits the lines of text of the soup object.**"
   ]
  },
  {
   "cell_type": "code",
   "execution_count": 14,
   "id": "8258dc3d",
   "metadata": {},
   "outputs": [],
   "source": [
    "start_idx=soup.text.splitlines().index('Top 100 EBooks yesterday')"
   ]
  },
  {
   "cell_type": "markdown",
   "id": "9f1cfe39",
   "metadata": {},
   "source": [
    "**12. Loop 1-100 to add the strings of the next 100 lines to this temporary list. Hint: use the splitlines method.**"
   ]
  },
  {
   "cell_type": "code",
   "execution_count": 15,
   "id": "864a56e4",
   "metadata": {},
   "outputs": [],
   "source": [
    "for i in range(100):\n",
    "    lst_titles_temp.append(soup.text.splitlines()[start_idx+2+i])"
   ]
  },
  {
   "cell_type": "markdown",
   "id": "ee39d789",
   "metadata": {},
   "source": [
    "**#13. Use a regular expression to extract only text from the name strings and append it to an empty list. Use match and span to find the indices and use them.**"
   ]
  },
  {
   "cell_type": "code",
   "execution_count": 16,
   "id": "a37f6aae",
   "metadata": {},
   "outputs": [],
   "source": [
    "lst_titles=[]\n",
    "for i in range(100):\n",
    "    id1,id2=re.match('^[a-zA-Z ]*',lst_titles_temp[i]).span()\n",
    "    lst_titles.append(lst_titles_temp[i][id1:id2])"
   ]
  },
  {
   "cell_type": "code",
   "execution_count": 17,
   "id": "6d0cb29a",
   "metadata": {},
   "outputs": [
    {
     "name": "stdout",
     "output_type": "stream",
     "text": [
      "Top \n",
      "Top \n",
      "Top \n",
      "Top \n",
      "\n",
      "\n",
      "Top \n",
      "\n",
      "Frankenstein\n",
      "Pride and Prejudice by Jane Austen \n",
      "Moby Dick\n",
      "Romeo and Juliet by William Shakespeare \n",
      "Middlemarch by George Eliot \n",
      "The Complete Works of William Shakespeare by William Shakespeare \n",
      "A Room with a View by E\n",
      "Little Women\n",
      "The Great Gatsby by F\n",
      "The Enchanted April by Elizabeth Von Arnim \n",
      "The Blue Castle\n",
      "The Adventures of Ferdinand Count Fathom \n",
      "Cranford by Elizabeth Cleghorn Gaskell \n",
      "The Adventures of Roderick Random by T\n",
      "The Expedition of Humphry Clinker by T\n",
      "Alice\n",
      "History of Tom Jones\n",
      "Twenty years after by Alexandre Dumas and Auguste Maquet \n",
      "My Life \n",
      "A Doll\n",
      "The Picture of Dorian Gray by Oscar Wilde \n",
      "The Yellow Wallpaper by Charlotte Perkins Gilman \n",
      "The Importance of Being Earnest\n",
      "A Tale of Two Cities by Charles Dickens \n",
      "Metamorphosis by Franz Kafka \n",
      "Crime and Punishment by Fyodor Dostoyevsky \n",
      "Dracula by Bram Stoker \n",
      "A Modest Proposal by Jonathan Swift \n",
      "The Souls of Black Folk by W\n",
      "The Scarlet Letter by Nathaniel Hawthorne \n",
      "Rube Burrow\n",
      "Worth his while by Amy Ella Blanchard \n",
      "The Strange Case of Dr\n",
      "Jane Eyre\n",
      "Great Expectations by Charles Dickens \n",
      "Heart of Darkness by Joseph Conrad \n",
      "Adventures of Huckleberry Finn by Mark Twain \n",
      "The Brothers Karamazov by Fyodor Dostoyevsky \n",
      "The Prince by Niccol\n",
      "Tough yarns \n",
      "The Odyssey by Homer \n",
      "The Iliad by Homer \n",
      "The Adventures of Sherlock Holmes by Arthur Conan Doyle \n",
      "Grimms\n",
      "The suspicions of Ermengarde by Maxwell Gray \n",
      "Leviathan by Thomas Hobbes \n",
      "Ulysses by James Joyce \n",
      "Don Quijote by Miguel de Cervantes Saavedra \n",
      "Walden\n",
      "Frankenstein\n",
      "Wuthering Heights by Emily Bront\n",
      "A Christmas Carol in Prose\n",
      "Tractatus Logico\n",
      "Narrative of the Life of Frederick Douglass\n",
      "Dubliners by James Joyce \n",
      "Transplanted \n",
      "War and Peace by graf Leo Tolstoy \n",
      "Peter Pan by J\n",
      "The Count of Monte Cristo by Alexandre Dumas and Auguste Maquet \n",
      "Thus Spake Zarathustra\n",
      "The Prophet by Kahlil Gibran \n",
      "Second Treatise of Government by John Locke \n",
      "The Republic by Plato \n",
      "Anne of Green Gables by L\n",
      "Don Quixote by Miguel de Cervantes Saavedra \n",
      "The Romance of Lust\n",
      "The War of the Worlds by H\n",
      "The Wonderful Wizard of Oz by L\n",
      "Frankenstein\n",
      "Little Women by Louisa May Alcott \n",
      "Beowulf\n",
      "The Adventures of Tom Sawyer\n",
      "Emma by Jane Austen \n",
      "The Interesting Narrative of the Life of Olaudah Equiano\n",
      "Notes from the Underground by Fyodor Dostoyevsky \n",
      "Winnie\n",
      "The Sign of the Four by Arthur Conan Doyle \n",
      "Sense and Sensibility by Jane Austen \n",
      "A Study in Scarlet by Arthur Conan Doyle \n",
      "The divine comedy by Dante Alighieri \n",
      "The treatise of Benvenuto Cellini on goldsmithing and sculpture by Benvenuto Cellini \n",
      "Beyond Good and Evil by Friedrich Wilhelm Nietzsche \n",
      "Doctrina Christiana \n",
      "Incidents in the Life of a Slave Girl\n",
      "White Nights and Other Stories by Fyodor Dostoyevsky \n",
      "Carmilla by Joseph Sheridan Le Fanu \n",
      "The Legend of Sleepy Hollow by Washington Irving \n",
      "A Portrait of the Artist as a Young Man by James Joyce \n",
      "Pygmalion by Bernard Shaw \n",
      "Meditations by Emperor of Rome Marcus Aurelius \n",
      "Anna Karenina by graf Leo Tolstoy \n",
      "The Hound of the Baskervilles by Arthur Conan Doyle \n"
     ]
    }
   ],
   "source": [
    "for l in lst_titles:\n",
    "    print(l)"
   ]
  },
  {
   "cell_type": "markdown",
   "id": "10fb19a7",
   "metadata": {},
   "source": [
    "## 2) Data Wrangling with Python: Activity 10, page 295"
   ]
  },
  {
   "cell_type": "markdown",
   "id": "4b7e9bb0",
   "metadata": {},
   "source": [
    "***Instructions)***\n",
    "\n",
    "In this activity, you will build a complete movie database by communicating and interfacing with a free API. You will learn about obtaining a unique user key that must be used when your program tries to access the API. This activity will teach you general chapters about working with an API, which are fairly common for other highly popular API services such as Google or Twitter. Therefore, after doing this exercise, you will be confident about writing more complex programs to scrape data from such services.\n",
    "\n",
    "The aims of this activity are as follows:\n",
    "\n",
    "- To retrieve and print basic data about a movie (the title is entered by the user) from the web (OMDb database)\n",
    "- If a poster of the movie can be found, it downloads the file and saves it at a user-specified location\n",
    "\n",
    "These are the steps that will help you solve this activity:\n",
    "\n",
    "1. Import urllib.request, urllib.parse, urllib.error, and json.\n",
    "2. Load the secret API key (you have to get one from the OMDb website and use that; it has a daily limit of 1,000) from a JSON file stored in the same folder in a variable, by using json.loads.\n",
    "3. Obtain a key and store it in JSON as APIkeys.json.\n",
    "4. Open the APIkeys.json file.\n",
    "5. Assign the OMDb portal (http://www.omdbapi.com/?) as a string to a variable.\n",
    "6. Create a variable called apikey with the last portion of the URL (&apikey=secretapikey), where secretapikey is your own API key.\n",
    "7. Write a utility function called print_json to print the movie data from a JSON file (which we will get from the portal).\n",
    "8. Write a utility function to download a poster of the movie based on the information from the JSON dataset and save it in your local folder. Use the os module. The poster data is stored in the JSON key Poster. Use the Python command to open a file and write the poster data. Close the file after you're done. This function will save the poster data as an image file.\n",
    "9. Write a utility function called search_movie to search for a movie by its name, print the downloaded JSON data, and save the movie poster in the local folder. Use a try-except loop for this. Use the previously created serviceurl and apikey variables. You have to pass on a dictionary with a key, t, and the movie name as the corresponding value to the urllib.parse.urlencode() function and then add the serviceurl and apikey to the output of the function to construct the full URL. This URL will be used to access the data. The JSON data has a key called Response. If it is True, that means the read was successful. Check this before processing the data. If it's not successful, then print the JSON key Error, which will contain the appropriate error message returned by the movie database.\n",
    "10. Test the search_movie function by entering Titanic.\n",
    "11. Test the search_movie function by entering \"Random_error\" (obviously, this will not be found, and you should be able to check whether your error catching code is working properly).\n"
   ]
  },
  {
   "cell_type": "markdown",
   "id": "94b84586",
   "metadata": {},
   "source": [
    "***Answer)***"
   ]
  },
  {
   "cell_type": "markdown",
   "id": "d740f242",
   "metadata": {},
   "source": [
    "**#1. Import urllib.request, urllib.parse, urllib.error, and json.**"
   ]
  },
  {
   "cell_type": "code",
   "execution_count": 18,
   "id": "63d11212",
   "metadata": {},
   "outputs": [],
   "source": [
    "import urllib.request, urllib.parse, urllib.error\n",
    "import json"
   ]
  },
  {
   "cell_type": "markdown",
   "id": "ed3b3459",
   "metadata": {},
   "source": [
    "**#2. Load the secret API key (you have to get one from the OMDb website and use that; it has a daily limit of 1,000) from a JSON file stored in the same folder in a variable, by using json.loads.**"
   ]
  },
  {
   "cell_type": "markdown",
   "id": "1d0f517a",
   "metadata": {},
   "source": [
    "I was able to succesfully obtain an api key from omdbapi.com and loaded the api key in a new JSON file."
   ]
  },
  {
   "cell_type": "markdown",
   "id": "d334b220",
   "metadata": {},
   "source": [
    "**#3. Obtain a key and store it in JSON as APIkeys.json.**"
   ]
  },
  {
   "cell_type": "markdown",
   "id": "1e61c8f0",
   "metadata": {},
   "source": [
    "I performed this step in a sepearte notebook file and created the JSON file with the API key. However, I will paste the code here without the api key for demonstration purposes."
   ]
  },
  {
   "cell_type": "code",
   "execution_count": 39,
   "id": "10cf0877",
   "metadata": {},
   "outputs": [],
   "source": [
    "import json\n",
    "\n",
    "# defining the data (exluding the actual api key for security)\n",
    "data = {\n",
    "    \"api_key\": \"-----\"\n",
    "}\n",
    "\n",
    "# specifying the JSON file name\n",
    "filename = 'api_key.json'"
   ]
  },
  {
   "cell_type": "code",
   "execution_count": 40,
   "id": "378a788a",
   "metadata": {},
   "outputs": [],
   "source": [
    "# writing the data to a JSON file\n",
    "with open(filename, 'w') as file:\n",
    "    json.dump(data, file, indent=4)"
   ]
  },
  {
   "cell_type": "markdown",
   "id": "ac75f2e9",
   "metadata": {},
   "source": [
    "**#4. Open the APIkeys.json file.**"
   ]
  },
  {
   "cell_type": "markdown",
   "id": "959ca7da",
   "metadata": {},
   "source": [
    "This JSON file has my APIkey"
   ]
  },
  {
   "cell_type": "code",
   "execution_count": 41,
   "id": "00bd5a4b",
   "metadata": {},
   "outputs": [],
   "source": [
    "with open('api_key.json') as f:\n",
    "    keys = json.load(f)\n",
    "    omdbapi = keys['api_key']"
   ]
  },
  {
   "cell_type": "markdown",
   "id": "36d7c4b8",
   "metadata": {},
   "source": [
    "**#5. Assign the OMDb portal (http://www.omdbapi.com/?) as a string to a variable.**"
   ]
  },
  {
   "cell_type": "code",
   "execution_count": 42,
   "id": "d898734a",
   "metadata": {},
   "outputs": [],
   "source": [
    "serviceurl = 'http://www.omdbapi.com/?'"
   ]
  },
  {
   "cell_type": "markdown",
   "id": "a6b891b8",
   "metadata": {},
   "source": [
    "**#6. Create a variable called apikey with the last portion of the URL (&apikey=secretapikey), where secretapikey is your own API key.**"
   ]
  },
  {
   "cell_type": "code",
   "execution_count": 43,
   "id": "c3e9e750",
   "metadata": {},
   "outputs": [],
   "source": [
    "apikey = '&apikey='+omdbapi"
   ]
  },
  {
   "cell_type": "markdown",
   "id": "db7c033a",
   "metadata": {},
   "source": [
    "**#7. Write a utility function called print_json to print the movie data from a JSON file (which we will get from the portal).**"
   ]
  },
  {
   "cell_type": "code",
   "execution_count": 44,
   "id": "2e6c3663",
   "metadata": {},
   "outputs": [],
   "source": [
    "def print_json(json_data):\n",
    "    list_keys=['Title', 'Year', 'Rated', 'Released', 'Runtime', 'Genre', 'Director', 'Writer',\n",
    "               'Actors', 'Plot', 'Language', 'Country', 'Awards', 'Ratings',\n",
    "               'Metascore', 'imdbRating', 'imdbVotes', 'imdbID']    \n",
    "    print(\"-\"*50)\n",
    "\n",
    "    for k in list_keys:\n",
    "        if k in list(json_data.keys()):\n",
    "            print(f\"{k}: {json_data[k]}\")\n",
    "    print(\"-\"*50)"
   ]
  },
  {
   "cell_type": "markdown",
   "id": "7bd6066e",
   "metadata": {},
   "source": [
    "**#8. Write a utility function to download a poster of the movie based on the information from the JSON dataset and save it in your local folder. Use the os module. The poster data is stored in the JSON key Poster. Use the Python command to open a file and write the poster data. Close the file after you're done. This function will save the poster data as an image file.**"
   ]
  },
  {
   "cell_type": "code",
   "execution_count": 45,
   "id": "1a5dff54",
   "metadata": {},
   "outputs": [],
   "source": [
    "def save_poster(json_data):\n",
    "    import os\n",
    "    title = json_data['Title']\n",
    "    poster_url = json_data['Poster']\n",
    "    # Splits the poster url by '.' and picks up the last string as file extension\n",
    "    poster_file_extension=poster_url.split('.')[-1]\n",
    "    # Reads the image file from web\n",
    "    poster_data = urllib.request.urlopen(poster_url).read()\n",
    "        \n",
    "    savelocation=os.getcwd()+'\\\\'+'Posters'+'\\\\'\n",
    "    # Creates new directory if the directory does not exist. Otherwise, just use the existing path.\n",
    "    if not os.path.isdir(savelocation):\n",
    "        os.mkdir(savelocation)\n",
    "    \n",
    "    filename=savelocation+str(title)+'.'+poster_file_extension\n",
    "    f=open(filename,'wb')\n",
    "    f.write(poster_data)\n",
    "    f.close()"
   ]
  },
  {
   "cell_type": "markdown",
   "id": "ac8bc166",
   "metadata": {},
   "source": [
    "**#9. Write a utility function called search_movie to search for a movie by its name, print the downloaded JSON data, and save the movie poster in the local folder. Use a try-except loop for this. Use the previously created serviceurl and apikey variables. You have to pass on a dictionary with a key, t, and the movie name as the corresponding value to the urllib.parse.urlencode() function and then add the serviceurl and apikey to the output of the function to construct the full URL. This URL will be used to access the data. The JSON data has a key called Response. If it is True, that means the read was successful. Check this before processing the data. If it's not successful, then print the JSON key Error, which will contain the appropriate error message returned by the movie database.**"
   ]
  },
  {
   "cell_type": "code",
   "execution_count": 46,
   "id": "16664f86",
   "metadata": {},
   "outputs": [],
   "source": [
    "def search_movie(title):\n",
    "    try:\n",
    "        url = serviceurl + urllib.parse.urlencode({'t': str(title)})+apikey\n",
    "        print(f'Retrieving the data of \"{title}\" now... ')\n",
    "        print(url)\n",
    "        uh = urllib.request.urlopen(url)\n",
    "        data = uh.read()\n",
    "        json_data=json.loads(data)\n",
    "        \n",
    "        if json_data['Response']=='True':\n",
    "            print_json(json_data)\n",
    "            # Asks user whether to download the poster of the movie\n",
    "            if json_data['Poster']!='N/A':\n",
    "                save_poster(json_data)\n",
    "        else:\n",
    "            print(\"Error encountered: \",json_data['Error'])\n",
    "    \n",
    "    except urllib.error.URLError as e:\n",
    "        print(f\"ERROR: {e.reason}\")"
   ]
  },
  {
   "cell_type": "markdown",
   "id": "b558011b",
   "metadata": {},
   "source": [
    "**#10. Test the search_movie function by entering Titanic.**"
   ]
  },
  {
   "cell_type": "markdown",
   "id": "b14382b2",
   "metadata": {},
   "source": [
    "I tested it on Titanic first, but then looked up my favorite movie, which is shown below!"
   ]
  },
  {
   "cell_type": "code",
   "execution_count": 47,
   "id": "6b683096",
   "metadata": {},
   "outputs": [
    {
     "name": "stdout",
     "output_type": "stream",
     "text": [
      "Retrieving the data of \"Blade Runner\" now... \n",
      "http://www.omdbapi.com/?t=Blade+Runner&apikey=e2f1de69\n",
      "--------------------------------------------------\n",
      "Title: Blade Runner\n",
      "Year: 1982\n",
      "Rated: R\n",
      "Released: 25 Jun 1982\n",
      "Runtime: 117 min\n",
      "Genre: Action, Drama, Sci-Fi\n",
      "Director: Ridley Scott\n",
      "Writer: Hampton Fancher, David Webb Peoples, Philip K. Dick\n",
      "Actors: Harrison Ford, Rutger Hauer, Sean Young\n",
      "Plot: A blade runner must pursue and terminate four replicants who stole a ship in space and have returned to Earth to find their creator.\n",
      "Language: English, German, Cantonese, Japanese, Hungarian, Arabic, Korean\n",
      "Country: United States, United Kingdom\n",
      "Awards: Nominated for 2 Oscars. 13 wins & 22 nominations total\n",
      "Ratings: [{'Source': 'Internet Movie Database', 'Value': '8.1/10'}, {'Source': 'Rotten Tomatoes', 'Value': '89%'}, {'Source': 'Metacritic', 'Value': '84/100'}]\n",
      "Metascore: 84\n",
      "imdbRating: 8.1\n",
      "imdbVotes: 814,563\n",
      "imdbID: tt0083658\n",
      "--------------------------------------------------\n"
     ]
    }
   ],
   "source": [
    "search_movie(\"Blade Runner\")"
   ]
  },
  {
   "cell_type": "markdown",
   "id": "c22ed50a",
   "metadata": {},
   "source": [
    "**#11. Test the search_movie function by entering \"Random_error\" (obviously, this will not be found, and you should be able to check whether your error catching code is working properly).**"
   ]
  },
  {
   "cell_type": "code",
   "execution_count": 28,
   "id": "f8356030",
   "metadata": {},
   "outputs": [
    {
     "name": "stdout",
     "output_type": "stream",
     "text": [
      "Retrieving the data of \"Random_error\" now... \n",
      "http://www.omdbapi.com/?t=Random_error&apikey=-----\n",
      "ERROR: Unauthorized\n"
     ]
    }
   ],
   "source": [
    "search_movie(\"Random_error\")"
   ]
  },
  {
   "cell_type": "markdown",
   "id": "60d5eb42",
   "metadata": {},
   "source": [
    "## 3) API Data pull"
   ]
  },
  {
   "cell_type": "markdown",
   "id": "b48e9fa5",
   "metadata": {},
   "source": [
    "***Instructions)***\n",
    "\n",
    "Connect to an API of your choice and do a simple data pull - you can use any API - except the API you have selected for your project.\n",
    "\n",
    "- In previous versions of this course we have always used Twitter, but with recent organizational changes at Twitter, it has become increasingly difficult to access the free APIs available at Twitter. You are more than welcome to try to use Twitter's API for this portion of the assignment, but please note, there has been some inconsistency experienced when following along with their documentation posted.\n",
    "- Connect to the API and do a \"Get\" call/operation on the API to return a subset of data from the API"
   ]
  },
  {
   "cell_type": "markdown",
   "id": "aaf0130b",
   "metadata": {},
   "source": [
    "***Answer)***"
   ]
  },
  {
   "cell_type": "markdown",
   "id": "91eefa78",
   "metadata": {},
   "source": [
    "I am using the open Chuck Norris Jokes API"
   ]
  },
  {
   "cell_type": "code",
   "execution_count": 29,
   "id": "8bc75c66",
   "metadata": {},
   "outputs": [],
   "source": [
    "import requests"
   ]
  },
  {
   "cell_type": "code",
   "execution_count": 30,
   "id": "39177774",
   "metadata": {},
   "outputs": [],
   "source": [
    "def print_json(json_data):\n",
    "    chuck_list_keys = ['icon_url', 'id', 'url', 'value']\n",
    "    print(\"-\" * 50)\n",
    "\n",
    "    for k in chuck_list_keys:\n",
    "        if k in json_data.keys():\n",
    "            print(f\"{k}: {json_data[k]}\")\n",
    "    print(\"-\" * 50)"
   ]
  },
  {
   "cell_type": "code",
   "execution_count": 31,
   "id": "2a69e403",
   "metadata": {},
   "outputs": [],
   "source": [
    "def search_joke(chosen_category):\n",
    "    try:\n",
    "        url = f\"https://api.chucknorris.io/jokes/random?category={chosen_category}\"\n",
    "        print(f'Retrieving the data of \"{chosen_category}\" category now... ')\n",
    "        print(url)\n",
    "\n",
    "        response = requests.get(url)\n",
    "        \n",
    "        # Check if the request was successful\n",
    "        if response.status_code == 200:\n",
    "            json_data = response.json()\n",
    "            print_json(json_data)\n",
    "        else:\n",
    "            print(f\"Error encountered: HTTP Status Code {response.status_code}\")\n",
    "    \n",
    "    except requests.exceptions.RequestException as e:\n",
    "        print(f\"ERROR: {e}\")"
   ]
  },
  {
   "cell_type": "code",
   "execution_count": 32,
   "id": "b98a5ac0",
   "metadata": {},
   "outputs": [],
   "source": [
    "def print_available_categories():\n",
    "    url_category_list = \"https://api.chucknorris.io/jokes/categories\"\n",
    "    try:\n",
    "        response = requests.get(url_category_list)\n",
    "        \n",
    "        # Check if the request was successful\n",
    "        if response.status_code == 200:\n",
    "            category_list = response.json()\n",
    "            print(\"Available categories: \", \", \".join(category_list))\n",
    "        else:\n",
    "            print(f\"Failed to fetch categories: HTTP Status Code {response.status_code}\")\n",
    "            \n",
    "    except requests.exceptions.RequestException as e:\n",
    "        print(f\"Error fetching categories: {e}\")\n"
   ]
  },
  {
   "cell_type": "code",
   "execution_count": 33,
   "id": "e1fa9059",
   "metadata": {},
   "outputs": [
    {
     "name": "stdout",
     "output_type": "stream",
     "text": [
      "Available categories:  animal, career, celebrity, dev, explicit, fashion, food, history, money, movie, music, political, religion, science, sport, travel\n"
     ]
    }
   ],
   "source": [
    "# call the function to print available categories\n",
    "print_available_categories()"
   ]
  },
  {
   "cell_type": "code",
   "execution_count": 34,
   "id": "093e38f7",
   "metadata": {},
   "outputs": [
    {
     "name": "stdout",
     "output_type": "stream",
     "text": [
      "Retrieving the data of \"animal\" category now... \n",
      "https://api.chucknorris.io/jokes/random?category=animal\n",
      "--------------------------------------------------\n",
      "icon_url: https://assets.chucknorris.host/img/avatar/chuck-norris.png\n",
      "id: o-vfxwx6rgecuo_f5cecpq\n",
      "url: https://api.chucknorris.io/jokes/o-vfxwx6rgecuo_f5cecpq\n",
      "value: They say curiosity killed the cat. This is false. Chuck Norris killed the cat. Every single one of them.\n",
      "--------------------------------------------------\n"
     ]
    }
   ],
   "source": [
    "# call the function for searching a rondom joke from a category\n",
    "search_joke(\"animal\")"
   ]
  },
  {
   "cell_type": "markdown",
   "id": "c36b08a3",
   "metadata": {},
   "source": [
    "## 4) Complete 3 visualizations"
   ]
  },
  {
   "cell_type": "markdown",
   "id": "50d8c6ee",
   "metadata": {},
   "source": [
    "***Instructions)***\n",
    "\n",
    "Using one of the datasets provided in Weeks 7 & 8, or a dataset of your own, choose 3 of the following visualizations to complete. You must submit via PDF along with your code. You are free to use Matplotlib, Seaborn or another package if you prefer.\n",
    "\n",
    "- Line\n",
    "- Scatter\n",
    "- Bar\n",
    "- Histogram\n",
    "- Density Plot\n",
    "- Pie Chart"
   ]
  },
  {
   "cell_type": "markdown",
   "id": "bb0d5743",
   "metadata": {},
   "source": [
    "**Answer)**"
   ]
  },
  {
   "cell_type": "markdown",
   "id": "84f8650c",
   "metadata": {},
   "source": [
    "I decided to use my own dataset for this activity. I am using a dataset that I obtained from the Texas Education Agency, which includes Four-Year Graduation and Ropout Data, Class of 2020, 2019, and 2018."
   ]
  },
  {
   "cell_type": "markdown",
   "id": "02792915",
   "metadata": {},
   "source": [
    "Source\n",
    "\n",
    "https://tea.texas.gov/reports-and-data/school-performance/accountability-research/completion-graduation-and-dropout/four-year-graduation-and-dropout-data-class-of-2020"
   ]
  },
  {
   "cell_type": "code",
   "execution_count": 35,
   "id": "d5e91f87",
   "metadata": {},
   "outputs": [
    {
     "data": {
      "text/html": [
       "<div>\n",
       "<style scoped>\n",
       "    .dataframe tbody tr th:only-of-type {\n",
       "        vertical-align: middle;\n",
       "    }\n",
       "\n",
       "    .dataframe tbody tr th {\n",
       "        vertical-align: top;\n",
       "    }\n",
       "\n",
       "    .dataframe thead th {\n",
       "        text-align: right;\n",
       "    }\n",
       "</style>\n",
       "<table border=\"1\" class=\"dataframe\">\n",
       "  <thead>\n",
       "    <tr style=\"text-align: right;\">\n",
       "      <th></th>\n",
       "      <th>CAMPUS</th>\n",
       "      <th>CAMPNAME</th>\n",
       "      <th>DISTRICT</th>\n",
       "      <th>DISTNAME</th>\n",
       "      <th>COUNTY</th>\n",
       "      <th>CNTYNAME</th>\n",
       "      <th>REGION</th>\n",
       "      <th>REGNNAME</th>\n",
       "      <th>CAMP_ALLD</th>\n",
       "      <th>CAMP_ALLR_GRAD</th>\n",
       "      <th>CAMP_HSD</th>\n",
       "      <th>CAMP_HSR_GRAD</th>\n",
       "      <th>CAMP_ECND</th>\n",
       "      <th>CAMP_ECNN_GRAD</th>\n",
       "      <th>CAMP_NECND</th>\n",
       "      <th>CAMP_NECNN_GRAD</th>\n",
       "      <th>REGION_TYPE</th>\n",
       "      <th>PREPATORY</th>\n",
       "    </tr>\n",
       "  </thead>\n",
       "  <tbody>\n",
       "    <tr>\n",
       "      <th>0</th>\n",
       "      <td>1902001</td>\n",
       "      <td>Cayuga H S</td>\n",
       "      <td>1902</td>\n",
       "      <td>Cayuga ISD</td>\n",
       "      <td>1</td>\n",
       "      <td>Anderson County</td>\n",
       "      <td>7</td>\n",
       "      <td>Kilgore</td>\n",
       "      <td>39</td>\n",
       "      <td>97</td>\n",
       "      <td>0</td>\n",
       "      <td>0.0</td>\n",
       "      <td>14</td>\n",
       "      <td>13</td>\n",
       "      <td>25</td>\n",
       "      <td>25</td>\n",
       "      <td>1</td>\n",
       "      <td>1</td>\n",
       "    </tr>\n",
       "    <tr>\n",
       "      <th>1</th>\n",
       "      <td>1903001</td>\n",
       "      <td>Elkhart H S</td>\n",
       "      <td>1903</td>\n",
       "      <td>Elkhart ISD</td>\n",
       "      <td>1</td>\n",
       "      <td>Anderson County</td>\n",
       "      <td>7</td>\n",
       "      <td>Kilgore</td>\n",
       "      <td>90</td>\n",
       "      <td>98</td>\n",
       "      <td>10</td>\n",
       "      <td>100.0</td>\n",
       "      <td>37</td>\n",
       "      <td>36</td>\n",
       "      <td>53</td>\n",
       "      <td>52</td>\n",
       "      <td>1</td>\n",
       "      <td>1</td>\n",
       "    </tr>\n",
       "    <tr>\n",
       "      <th>2</th>\n",
       "      <td>1904001</td>\n",
       "      <td>Frankston H S</td>\n",
       "      <td>1904</td>\n",
       "      <td>Frankston ISD</td>\n",
       "      <td>1</td>\n",
       "      <td>Anderson County</td>\n",
       "      <td>7</td>\n",
       "      <td>Kilgore</td>\n",
       "      <td>51</td>\n",
       "      <td>98</td>\n",
       "      <td>5</td>\n",
       "      <td>100.0</td>\n",
       "      <td>20</td>\n",
       "      <td>19</td>\n",
       "      <td>31</td>\n",
       "      <td>31</td>\n",
       "      <td>1</td>\n",
       "      <td>1</td>\n",
       "    </tr>\n",
       "    <tr>\n",
       "      <th>3</th>\n",
       "      <td>1906002</td>\n",
       "      <td>Neches H S</td>\n",
       "      <td>1906</td>\n",
       "      <td>Neches ISD</td>\n",
       "      <td>1</td>\n",
       "      <td>Anderson County</td>\n",
       "      <td>7</td>\n",
       "      <td>Kilgore</td>\n",
       "      <td>33</td>\n",
       "      <td>97</td>\n",
       "      <td>5</td>\n",
       "      <td>100.0</td>\n",
       "      <td>10</td>\n",
       "      <td>10</td>\n",
       "      <td>23</td>\n",
       "      <td>22</td>\n",
       "      <td>1</td>\n",
       "      <td>1</td>\n",
       "    </tr>\n",
       "    <tr>\n",
       "      <th>4</th>\n",
       "      <td>1907001</td>\n",
       "      <td>Palestine H S</td>\n",
       "      <td>1907</td>\n",
       "      <td>Palestine ISD</td>\n",
       "      <td>1</td>\n",
       "      <td>Anderson County</td>\n",
       "      <td>7</td>\n",
       "      <td>Kilgore</td>\n",
       "      <td>231</td>\n",
       "      <td>97</td>\n",
       "      <td>102</td>\n",
       "      <td>99.0</td>\n",
       "      <td>146</td>\n",
       "      <td>141</td>\n",
       "      <td>85</td>\n",
       "      <td>84</td>\n",
       "      <td>1</td>\n",
       "      <td>1</td>\n",
       "    </tr>\n",
       "  </tbody>\n",
       "</table>\n",
       "</div>"
      ],
      "text/plain": [
       "    CAMPUS       CAMPNAME  DISTRICT       DISTNAME  COUNTY         CNTYNAME  \\\n",
       "0  1902001     Cayuga H S      1902     Cayuga ISD       1  Anderson County   \n",
       "1  1903001    Elkhart H S      1903    Elkhart ISD       1  Anderson County   \n",
       "2  1904001  Frankston H S      1904  Frankston ISD       1  Anderson County   \n",
       "3  1906002     Neches H S      1906     Neches ISD       1  Anderson County   \n",
       "4  1907001  Palestine H S      1907  Palestine ISD       1  Anderson County   \n",
       "\n",
       "   REGION REGNNAME  CAMP_ALLD  CAMP_ALLR_GRAD  CAMP_HSD  CAMP_HSR_GRAD  \\\n",
       "0       7  Kilgore         39              97         0            0.0   \n",
       "1       7  Kilgore         90              98        10          100.0   \n",
       "2       7  Kilgore         51              98         5          100.0   \n",
       "3       7  Kilgore         33              97         5          100.0   \n",
       "4       7  Kilgore        231              97       102           99.0   \n",
       "\n",
       "   CAMP_ECND  CAMP_ECNN_GRAD  CAMP_NECND  CAMP_NECNN_GRAD  REGION_TYPE  \\\n",
       "0         14              13          25               25            1   \n",
       "1         37              36          53               52            1   \n",
       "2         20              19          31               31            1   \n",
       "3         10              10          23               22            1   \n",
       "4        146             141          85               84            1   \n",
       "\n",
       "   PREPATORY  \n",
       "0          1  \n",
       "1          1  \n",
       "2          1  \n",
       "3          1  \n",
       "4          1  "
      ]
     },
     "execution_count": 35,
     "metadata": {},
     "output_type": "execute_result"
    }
   ],
   "source": [
    "import pandas as pd\n",
    "\n",
    "# Paths to each dataset\n",
    "file_location = 'C:/Users/ivan2/gitLocal/DSC540-WINTER2023/campus-data-download-4yr-longitudinal-2018-2020-class.csv.csv'\n",
    "\n",
    "# Loading each dataset into a pandas DataFrame\n",
    "df_hs = pd.read_csv(file_location)\n",
    "\n",
    "df_hs.head()"
   ]
  },
  {
   "cell_type": "markdown",
   "id": "692e7346",
   "metadata": {},
   "source": [
    "Variables in the final dataset\n",
    "\n",
    "- **CAMPUS:** Campus number\n",
    "- **DISTRICT:** District number\n",
    "- **COUNTY:**            County number\n",
    "- **REGION:**            Region number\n",
    "- **CAMP_ALLD:**         Campus all students denominator\n",
    "- **CAMP_ALLR_GRAD:**    Campus all students graduation rate\n",
    "- **CAMP_HSD:**          Campus Hispanic denominator\n",
    "- **CAMP_HSR_GRAD:**     Campus Hispanic graduation rate\n",
    "- **CAMP_ECND:**         Campus economically disadvantaged denominator\n",
    "- **CAMP_ECNN_GRAD:**    Campus economically disadvantaged graduation numerator\n",
    "- **CAMP_NECND:**        Campus not economically disadvantaged denominator\n",
    "- **CAMP_NECNN_GRAD:**   Campus not economically disadvantaged graduation numerator\n",
    "- **REGION_TYPE:**       Region type indicator\n",
    "- **PREPATORY:**         Preparatory school indicator"
   ]
  },
  {
   "cell_type": "code",
   "execution_count": 36,
   "id": "ae0ca653",
   "metadata": {},
   "outputs": [
    {
     "data": {
      "image/png": "[encoded data removed]",
      "text/plain": [
       "<Figure size 800x800 with 1 Axes>"
      ]
     },
     "metadata": {},
     "output_type": "display_data"
    }
   ],
   "source": [
    "import matplotlib.pyplot as plt\n",
    "\n",
    "# Visualizing Counts the in the Region_Type variable\n",
    "region_type_counts = df_hs['REGION_TYPE'].value_counts()\n",
    "\n",
    "# Create a pie chart\n",
    "plt.figure(figsize=(8, 8))\n",
    "plt.pie(region_type_counts, labels=region_type_counts.index, autopct='%1.1f%%', startangle=90)\n",
    "plt.title('Distribution of Region Types')\n",
    "plt.show()\n",
    "\n",
    "# 1 = Rural\n",
    "# 2 = Urban"
   ]
  },
  {
   "cell_type": "code",
   "execution_count": 37,
   "id": "21c1f777",
   "metadata": {},
   "outputs": [
    {
     "data": {
      "image/png": "[encoded data removed]",
      "text/plain": [
       "<Figure size 640x480 with 1 Axes>"
      ]
     },
     "metadata": {},
     "output_type": "display_data"
    }
   ],
   "source": [
    "# Create the histogram for Class Size\n",
    "plt.hist(df_hs.CAMP_ALLD, bins='auto', label='Class Size')  # 'auto' lets matplotlib decide the number of bins\n",
    "\n",
    "# Adding labels and title\n",
    "plt.xlabel('Class Size')\n",
    "plt.ylabel('Frequency')\n",
    "plt.title('Histogram of Class Size')\n",
    "\n",
    "# Display the legend\n",
    "plt.legend()\n",
    "\n",
    "# Show the plot\n",
    "plt.show()"
   ]
  },
  {
   "cell_type": "code",
   "execution_count": 38,
   "id": "159de378",
   "metadata": {},
   "outputs": [
    {
     "data": {
      "image/png": "[encoded data removed]",
      "text/plain": [
       "<Figure size 640x480 with 1 Axes>"
      ]
     },
     "metadata": {},
     "output_type": "display_data"
    }
   ],
   "source": [
    "# Map 'REGION_TYPE' to 'Rural' and 'Urban'\n",
    "region_mapping = {1: 'Rural', 2: 'Urban'}\n",
    "df_hs['Region Name'] = df_hs['REGION_TYPE'].map(region_mapping)\n",
    "\n",
    "# Calculate the average 'CAMP_ALLR_GRAD' for each 'Region Name'\n",
    "grouped_averages = df_hs.groupby('Region Name')['CAMP_ALLR_GRAD'].mean()\n",
    "\n",
    "# Plotting the bar graph\n",
    "grouped_averages.plot(kind='bar')\n",
    "\n",
    "# Adding labels and title\n",
    "plt.xlabel('Region Type')\n",
    "plt.ylabel('Average Graduation Rate')\n",
    "plt.title('Average Graduation Rate by Region Type')\n",
    "\n",
    "# Add legend with a bbox_to_anchor to move it outside of the plot area\n",
    "plt.legend(title='Region Description', bbox_to_anchor=(1.05, 1), loc='upper left')\n",
    "\n",
    "# Adjust the layout to make room for the legend\n",
    "plt.tight_layout()\n",
    "\n",
    "# Show the plot\n",
    "plt.show()\n"
   ]
  }
 ],
 "metadata": {
  "colab": {
   "provenance": []
  },
  "kernelspec": {
   "display_name": "Python 3 (ipykernel)",
   "language": "python",
   "name": "python3"
  },
  "language_info": {
   "codemirror_mode": {
    "name": "ipython",
    "version": 3
   },
   "file_extension": ".py",
   "mimetype": "text/x-python",
   "name": "python",
   "nbconvert_exporter": "python",
   "pygments_lexer": "ipython3",
   "version": "3.11.4"
  }
 },
 "nbformat": 4,
 "nbformat_minor": 5
}
